{
  "nbformat": 4,
  "nbformat_minor": 0,
  "metadata": {
    "colab": {
      "provenance": [],
      "toc_visible": true
    },
    "kernelspec": {
      "name": "python3",
      "display_name": "Python 3"
    },
    "language_info": {
      "name": "python"
    }
  },
  "cells": [
    {
      "cell_type": "markdown",
      "source": [
        "## データを読み込み"
      ],
      "metadata": {
        "id": "nfChp-lxAbhJ"
      }
    },
    {
      "cell_type": "markdown",
      "source": [
        "`BigQuery`上に`TABLESAMPLE SYSTEM (@percent PERCENT)`で2693件のデータを抽出し、結果をcsvとしてドライブに保存\n",
        "\n",
        "> BIgQueryは、`TABLESAMPLE`を含むクエリの結果をキャッシュに保存しないため、`rand()`のみ使いサンプリングするより、コストやパフォーマンスが改善できそう\n",
        "\n",
        "```sql\n",
        "@BigQuery\n",
        "SELECT *\n",
        "FROM `bigquery-public-data.chicago_taxi_trips.taxi_trips`\n",
        "TABLESAMPLE SYSTEM (0.00001 PERCENT)\n",
        "WHERE rand() < 0.001\n",
        "```"
      ],
      "metadata": {
        "id": "9saip3YPJfyV"
      }
    },
    {
      "cell_type": "code",
      "source": [
        "from google.colab import drive\n",
        "drive.mount('/content/drive')"
      ],
      "metadata": {
        "colab": {
          "base_uri": "https://localhost:8080/"
        },
        "id": "BKJViIfY28Zy",
        "outputId": "fe41759e-6bcd-42f8-aab9-943cfd391439"
      },
      "execution_count": 123,
      "outputs": [
        {
          "output_type": "stream",
          "name": "stdout",
          "text": [
            "Drive already mounted at /content/drive; to attempt to forcibly remount, call drive.mount(\"/content/drive\", force_remount=True).\n"
          ]
        }
      ]
    },
    {
      "cell_type": "code",
      "source": [
        "import pandas as pd\n",
        "raw_dataset = pd.read_csv('/content/drive/MyDrive/bq-results/bq-results.csv')\n",
        "dataset = raw_dataset.copy()"
      ],
      "metadata": {
        "id": "GBxn7pGp3iCL"
      },
      "execution_count": 124,
      "outputs": []
    },
    {
      "cell_type": "code",
      "source": [
        "dataset"
      ],
      "metadata": {
        "colab": {
          "base_uri": "https://localhost:8080/",
          "height": 0
        },
        "id": "TOhb_XM_4u2_",
        "outputId": "0130b219-f797-4409-8d59-05204a97f857"
      },
      "execution_count": 125,
      "outputs": [
        {
          "output_type": "execute_result",
          "data": {
            "text/plain": [
              "                                    unique_key  \\\n",
              "0     d61f171869ff679f1beac27804db4e3a4d0ab205   \n",
              "1     13004b1e5bfdf88250a4bbfcbf98287657243b53   \n",
              "2     b0ed50db129a9ee4693b2126586ec70aae71fc35   \n",
              "3     14850d3360fdc9756c5e4520da6921021226cded   \n",
              "4     193182becee90fd226dd6ec3878fa2ff72000ba6   \n",
              "...                                        ...   \n",
              "2688  21a29db8caa27766cbb121796ab0c61b098f24d0   \n",
              "2689  20105e8dcfac7e86d6b795f5bd2275bb5d94b5be   \n",
              "2690  5653b6af7ce6f55c95c9f2dd337d60262a956772   \n",
              "2691  07f03869b6c0868a969b3703044f54203f84b079   \n",
              "2692  fccac9a86135ee147c1f947f84a1a2bca8d84fb4   \n",
              "\n",
              "                                                taxi_id  \\\n",
              "0     ae6ec23c69d74e3a0a765ce3ab829c6735ed0377370ed3...   \n",
              "1     c49f0ddc62fe52ff6d19832b7168a6818f17d8ccb7f59a...   \n",
              "2     28874ca106e42098e711a7568fa2fb514b2c92de46fe3b...   \n",
              "3     4b7d4f7564151f5ed13b585419c1aea363ddf42e93bb40...   \n",
              "4     0602c4dcde4b0fa95e24da18797128a90565512392fffd...   \n",
              "...                                                 ...   \n",
              "2688  2b7e837432c46345131f9826aae2d55e2fdd4d7ebdd6a2...   \n",
              "2689  dc5b9589d520699d09d46be9c514998c013c755321217a...   \n",
              "2690  ecda1a33da347992e0113c56f8f906bb77f206e8fa6225...   \n",
              "2691  19e804a8eab9224b352e6a384007418b519864a3e7c2d9...   \n",
              "2692  7c099e06fc83409ec83a80b7817164db2067166f949ceb...   \n",
              "\n",
              "         trip_start_timestamp       trip_end_timestamp  trip_seconds  \\\n",
              "0     2014-12-12 07:45:00 UTC  2014-12-12 07:45:00 UTC             0   \n",
              "1     2015-01-05 18:30:00 UTC  2015-01-05 18:30:00 UTC           360   \n",
              "2     2015-01-06 09:15:00 UTC  2015-01-06 09:45:00 UTC          1080   \n",
              "3     2014-11-12 04:15:00 UTC  2014-11-12 04:15:00 UTC           300   \n",
              "4     2014-12-11 20:30:00 UTC  2014-12-11 21:00:00 UTC          1200   \n",
              "...                       ...                      ...           ...   \n",
              "2688  2015-01-27 03:30:00 UTC  2015-01-27 03:30:00 UTC           600   \n",
              "2689  2015-03-13 22:00:00 UTC  2015-03-13 22:00:00 UTC           540   \n",
              "2690  2015-03-13 21:00:00 UTC  2015-03-13 21:15:00 UTC           420   \n",
              "2691  2015-02-05 02:30:00 UTC  2015-02-05 02:30:00 UTC           360   \n",
              "2692  2015-03-12 11:45:00 UTC  2015-03-12 12:00:00 UTC           960   \n",
              "\n",
              "      trip_miles  pickup_census_tract  dropoff_census_tract  \\\n",
              "0            0.0                  NaN                   NaN   \n",
              "1            1.2                  NaN                   NaN   \n",
              "2            3.5                  NaN                   NaN   \n",
              "3            1.0                  NaN                   NaN   \n",
              "4           10.3         1.703128e+10          1.703198e+10   \n",
              "...          ...                  ...                   ...   \n",
              "2688         2.3                  NaN                   NaN   \n",
              "2689         0.2                  NaN                   NaN   \n",
              "2690         1.2                  NaN                   NaN   \n",
              "2691         1.0                  NaN                   NaN   \n",
              "2692         5.7                  NaN                   NaN   \n",
              "\n",
              "      pickup_community_area  dropoff_community_area  ...  extras  trip_total  \\\n",
              "0                      16.0                    16.0  ...     0.0        3.25   \n",
              "1                      15.0                    16.0  ...     0.0        5.85   \n",
              "2                      29.0                    58.0  ...     0.0       11.85   \n",
              "3                      14.0                    13.0  ...     0.0        5.65   \n",
              "4                      28.0                    56.0  ...     2.0       32.05   \n",
              "...                     ...                     ...  ...     ...         ...   \n",
              "2688                   22.0                     6.0  ...     0.0        8.25   \n",
              "2689                   22.0                    24.0  ...     0.0       10.25   \n",
              "2690                   22.0                    24.0  ...     0.0        5.85   \n",
              "2691                   22.0                    24.0  ...     0.0        5.25   \n",
              "2692                   22.0                    28.0  ...     0.0       15.25   \n",
              "\n",
              "      payment_type                    company  pickup_latitude  \\\n",
              "0             Cash  Dispatch Taxi Affiliation        41.953582   \n",
              "1             Cash  Taxi Affiliation Services        41.954028   \n",
              "2             Cash  Taxi Affiliation Services        41.860190   \n",
              "3             Cash  Taxi Affiliation Services        41.968069   \n",
              "4      Credit Card  Taxi Affiliation Services        41.869274   \n",
              "...            ...                        ...              ...   \n",
              "2688          Cash  Taxi Affiliation Services        41.922761   \n",
              "2689          Cash  Taxi Affiliation Services        41.922761   \n",
              "2690          Cash   Northwest Management LLC        41.922761   \n",
              "2691          Cash  Taxi Affiliation Services        41.922761   \n",
              "2692          Cash  Taxi Affiliation Services        41.922761   \n",
              "\n",
              "     pickup_longitude                           pickup_location  \\\n",
              "0          -87.723452      POINT (-87.7234523905 41.9535821253)   \n",
              "1          -87.763399      POINT (-87.7633990316 41.9540276487)   \n",
              "2          -87.717220         POINT (-87.7172201 41.8601900192)   \n",
              "3          -87.721559          POINT (-87.7215590627 41.968069)   \n",
              "4          -87.664047      POINT (-87.6640472412 41.8692744531)   \n",
              "...               ...                                       ...   \n",
              "2688       -87.699155  POINT (-87.69915534320002 41.9227606205)   \n",
              "2689       -87.699155  POINT (-87.69915534320002 41.9227606205)   \n",
              "2690       -87.699155  POINT (-87.69915534320002 41.9227606205)   \n",
              "2691       -87.699155  POINT (-87.69915534320002 41.9227606205)   \n",
              "2692       -87.699155  POINT (-87.69915534320002 41.9227606205)   \n",
              "\n",
              "      dropoff_latitude  dropoff_longitude  \\\n",
              "0            41.953582         -87.723452   \n",
              "1            41.953582         -87.723452   \n",
              "2            41.817366         -87.698861   \n",
              "3            41.983636         -87.723583   \n",
              "4            41.785999         -87.750934   \n",
              "...                ...                ...   \n",
              "2688         41.944227         -87.655998   \n",
              "2689         41.901207         -87.676356   \n",
              "2690         41.901207         -87.676356   \n",
              "2691         41.901207         -87.676356   \n",
              "2692         41.874005         -87.663518   \n",
              "\n",
              "                              dropoff_location  \n",
              "0         POINT (-87.7234523905 41.9535821253)  \n",
              "1         POINT (-87.7234523905 41.9535821253)  \n",
              "2         POINT (-87.6988607973 41.8173662079)  \n",
              "3         POINT (-87.7235831853 41.9836363072)  \n",
              "4          POINT (-87.7509342894 41.785998518)  \n",
              "...                                        ...  \n",
              "2688      POINT (-87.6559981815 41.9442266014)  \n",
              "2689  POINT (-87.6763559892 41.90120699410001)  \n",
              "2690  POINT (-87.6763559892 41.90120699410001)  \n",
              "2691  POINT (-87.6763559892 41.90120699410001)  \n",
              "2692       POINT (-87.6635175498 41.874005383)  \n",
              "\n",
              "[2693 rows x 23 columns]"
            ],
            "text/html": [
              "\n",
              "\n",
              "  <div id=\"df-0fa0161e-0716-4890-9d31-343e5c9f0b6e\">\n",
              "    <div class=\"colab-df-container\">\n",
              "      <div>\n",
              "<style scoped>\n",
              "    .dataframe tbody tr th:only-of-type {\n",
              "        vertical-align: middle;\n",
              "    }\n",
              "\n",
              "    .dataframe tbody tr th {\n",
              "        vertical-align: top;\n",
              "    }\n",
              "\n",
              "    .dataframe thead th {\n",
              "        text-align: right;\n",
              "    }\n",
              "</style>\n",
              "<table border=\"1\" class=\"dataframe\">\n",
              "  <thead>\n",
              "    <tr style=\"text-align: right;\">\n",
              "      <th></th>\n",
              "      <th>unique_key</th>\n",
              "      <th>taxi_id</th>\n",
              "      <th>trip_start_timestamp</th>\n",
              "      <th>trip_end_timestamp</th>\n",
              "      <th>trip_seconds</th>\n",
              "      <th>trip_miles</th>\n",
              "      <th>pickup_census_tract</th>\n",
              "      <th>dropoff_census_tract</th>\n",
              "      <th>pickup_community_area</th>\n",
              "      <th>dropoff_community_area</th>\n",
              "      <th>...</th>\n",
              "      <th>extras</th>\n",
              "      <th>trip_total</th>\n",
              "      <th>payment_type</th>\n",
              "      <th>company</th>\n",
              "      <th>pickup_latitude</th>\n",
              "      <th>pickup_longitude</th>\n",
              "      <th>pickup_location</th>\n",
              "      <th>dropoff_latitude</th>\n",
              "      <th>dropoff_longitude</th>\n",
              "      <th>dropoff_location</th>\n",
              "    </tr>\n",
              "  </thead>\n",
              "  <tbody>\n",
              "    <tr>\n",
              "      <th>0</th>\n",
              "      <td>d61f171869ff679f1beac27804db4e3a4d0ab205</td>\n",
              "      <td>ae6ec23c69d74e3a0a765ce3ab829c6735ed0377370ed3...</td>\n",
              "      <td>2014-12-12 07:45:00 UTC</td>\n",
              "      <td>2014-12-12 07:45:00 UTC</td>\n",
              "      <td>0</td>\n",
              "      <td>0.0</td>\n",
              "      <td>NaN</td>\n",
              "      <td>NaN</td>\n",
              "      <td>16.0</td>\n",
              "      <td>16.0</td>\n",
              "      <td>...</td>\n",
              "      <td>0.0</td>\n",
              "      <td>3.25</td>\n",
              "      <td>Cash</td>\n",
              "      <td>Dispatch Taxi Affiliation</td>\n",
              "      <td>41.953582</td>\n",
              "      <td>-87.723452</td>\n",
              "      <td>POINT (-87.7234523905 41.9535821253)</td>\n",
              "      <td>41.953582</td>\n",
              "      <td>-87.723452</td>\n",
              "      <td>POINT (-87.7234523905 41.9535821253)</td>\n",
              "    </tr>\n",
              "    <tr>\n",
              "      <th>1</th>\n",
              "      <td>13004b1e5bfdf88250a4bbfcbf98287657243b53</td>\n",
              "      <td>c49f0ddc62fe52ff6d19832b7168a6818f17d8ccb7f59a...</td>\n",
              "      <td>2015-01-05 18:30:00 UTC</td>\n",
              "      <td>2015-01-05 18:30:00 UTC</td>\n",
              "      <td>360</td>\n",
              "      <td>1.2</td>\n",
              "      <td>NaN</td>\n",
              "      <td>NaN</td>\n",
              "      <td>15.0</td>\n",
              "      <td>16.0</td>\n",
              "      <td>...</td>\n",
              "      <td>0.0</td>\n",
              "      <td>5.85</td>\n",
              "      <td>Cash</td>\n",
              "      <td>Taxi Affiliation Services</td>\n",
              "      <td>41.954028</td>\n",
              "      <td>-87.763399</td>\n",
              "      <td>POINT (-87.7633990316 41.9540276487)</td>\n",
              "      <td>41.953582</td>\n",
              "      <td>-87.723452</td>\n",
              "      <td>POINT (-87.7234523905 41.9535821253)</td>\n",
              "    </tr>\n",
              "    <tr>\n",
              "      <th>2</th>\n",
              "      <td>b0ed50db129a9ee4693b2126586ec70aae71fc35</td>\n",
              "      <td>28874ca106e42098e711a7568fa2fb514b2c92de46fe3b...</td>\n",
              "      <td>2015-01-06 09:15:00 UTC</td>\n",
              "      <td>2015-01-06 09:45:00 UTC</td>\n",
              "      <td>1080</td>\n",
              "      <td>3.5</td>\n",
              "      <td>NaN</td>\n",
              "      <td>NaN</td>\n",
              "      <td>29.0</td>\n",
              "      <td>58.0</td>\n",
              "      <td>...</td>\n",
              "      <td>0.0</td>\n",
              "      <td>11.85</td>\n",
              "      <td>Cash</td>\n",
              "      <td>Taxi Affiliation Services</td>\n",
              "      <td>41.860190</td>\n",
              "      <td>-87.717220</td>\n",
              "      <td>POINT (-87.7172201 41.8601900192)</td>\n",
              "      <td>41.817366</td>\n",
              "      <td>-87.698861</td>\n",
              "      <td>POINT (-87.6988607973 41.8173662079)</td>\n",
              "    </tr>\n",
              "    <tr>\n",
              "      <th>3</th>\n",
              "      <td>14850d3360fdc9756c5e4520da6921021226cded</td>\n",
              "      <td>4b7d4f7564151f5ed13b585419c1aea363ddf42e93bb40...</td>\n",
              "      <td>2014-11-12 04:15:00 UTC</td>\n",
              "      <td>2014-11-12 04:15:00 UTC</td>\n",
              "      <td>300</td>\n",
              "      <td>1.0</td>\n",
              "      <td>NaN</td>\n",
              "      <td>NaN</td>\n",
              "      <td>14.0</td>\n",
              "      <td>13.0</td>\n",
              "      <td>...</td>\n",
              "      <td>0.0</td>\n",
              "      <td>5.65</td>\n",
              "      <td>Cash</td>\n",
              "      <td>Taxi Affiliation Services</td>\n",
              "      <td>41.968069</td>\n",
              "      <td>-87.721559</td>\n",
              "      <td>POINT (-87.7215590627 41.968069)</td>\n",
              "      <td>41.983636</td>\n",
              "      <td>-87.723583</td>\n",
              "      <td>POINT (-87.7235831853 41.9836363072)</td>\n",
              "    </tr>\n",
              "    <tr>\n",
              "      <th>4</th>\n",
              "      <td>193182becee90fd226dd6ec3878fa2ff72000ba6</td>\n",
              "      <td>0602c4dcde4b0fa95e24da18797128a90565512392fffd...</td>\n",
              "      <td>2014-12-11 20:30:00 UTC</td>\n",
              "      <td>2014-12-11 21:00:00 UTC</td>\n",
              "      <td>1200</td>\n",
              "      <td>10.3</td>\n",
              "      <td>1.703128e+10</td>\n",
              "      <td>1.703198e+10</td>\n",
              "      <td>28.0</td>\n",
              "      <td>56.0</td>\n",
              "      <td>...</td>\n",
              "      <td>2.0</td>\n",
              "      <td>32.05</td>\n",
              "      <td>Credit Card</td>\n",
              "      <td>Taxi Affiliation Services</td>\n",
              "      <td>41.869274</td>\n",
              "      <td>-87.664047</td>\n",
              "      <td>POINT (-87.6640472412 41.8692744531)</td>\n",
              "      <td>41.785999</td>\n",
              "      <td>-87.750934</td>\n",
              "      <td>POINT (-87.7509342894 41.785998518)</td>\n",
              "    </tr>\n",
              "    <tr>\n",
              "      <th>...</th>\n",
              "      <td>...</td>\n",
              "      <td>...</td>\n",
              "      <td>...</td>\n",
              "      <td>...</td>\n",
              "      <td>...</td>\n",
              "      <td>...</td>\n",
              "      <td>...</td>\n",
              "      <td>...</td>\n",
              "      <td>...</td>\n",
              "      <td>...</td>\n",
              "      <td>...</td>\n",
              "      <td>...</td>\n",
              "      <td>...</td>\n",
              "      <td>...</td>\n",
              "      <td>...</td>\n",
              "      <td>...</td>\n",
              "      <td>...</td>\n",
              "      <td>...</td>\n",
              "      <td>...</td>\n",
              "      <td>...</td>\n",
              "      <td>...</td>\n",
              "    </tr>\n",
              "    <tr>\n",
              "      <th>2688</th>\n",
              "      <td>21a29db8caa27766cbb121796ab0c61b098f24d0</td>\n",
              "      <td>2b7e837432c46345131f9826aae2d55e2fdd4d7ebdd6a2...</td>\n",
              "      <td>2015-01-27 03:30:00 UTC</td>\n",
              "      <td>2015-01-27 03:30:00 UTC</td>\n",
              "      <td>600</td>\n",
              "      <td>2.3</td>\n",
              "      <td>NaN</td>\n",
              "      <td>NaN</td>\n",
              "      <td>22.0</td>\n",
              "      <td>6.0</td>\n",
              "      <td>...</td>\n",
              "      <td>0.0</td>\n",
              "      <td>8.25</td>\n",
              "      <td>Cash</td>\n",
              "      <td>Taxi Affiliation Services</td>\n",
              "      <td>41.922761</td>\n",
              "      <td>-87.699155</td>\n",
              "      <td>POINT (-87.69915534320002 41.9227606205)</td>\n",
              "      <td>41.944227</td>\n",
              "      <td>-87.655998</td>\n",
              "      <td>POINT (-87.6559981815 41.9442266014)</td>\n",
              "    </tr>\n",
              "    <tr>\n",
              "      <th>2689</th>\n",
              "      <td>20105e8dcfac7e86d6b795f5bd2275bb5d94b5be</td>\n",
              "      <td>dc5b9589d520699d09d46be9c514998c013c755321217a...</td>\n",
              "      <td>2015-03-13 22:00:00 UTC</td>\n",
              "      <td>2015-03-13 22:00:00 UTC</td>\n",
              "      <td>540</td>\n",
              "      <td>0.2</td>\n",
              "      <td>NaN</td>\n",
              "      <td>NaN</td>\n",
              "      <td>22.0</td>\n",
              "      <td>24.0</td>\n",
              "      <td>...</td>\n",
              "      <td>0.0</td>\n",
              "      <td>10.25</td>\n",
              "      <td>Cash</td>\n",
              "      <td>Taxi Affiliation Services</td>\n",
              "      <td>41.922761</td>\n",
              "      <td>-87.699155</td>\n",
              "      <td>POINT (-87.69915534320002 41.9227606205)</td>\n",
              "      <td>41.901207</td>\n",
              "      <td>-87.676356</td>\n",
              "      <td>POINT (-87.6763559892 41.90120699410001)</td>\n",
              "    </tr>\n",
              "    <tr>\n",
              "      <th>2690</th>\n",
              "      <td>5653b6af7ce6f55c95c9f2dd337d60262a956772</td>\n",
              "      <td>ecda1a33da347992e0113c56f8f906bb77f206e8fa6225...</td>\n",
              "      <td>2015-03-13 21:00:00 UTC</td>\n",
              "      <td>2015-03-13 21:15:00 UTC</td>\n",
              "      <td>420</td>\n",
              "      <td>1.2</td>\n",
              "      <td>NaN</td>\n",
              "      <td>NaN</td>\n",
              "      <td>22.0</td>\n",
              "      <td>24.0</td>\n",
              "      <td>...</td>\n",
              "      <td>0.0</td>\n",
              "      <td>5.85</td>\n",
              "      <td>Cash</td>\n",
              "      <td>Northwest Management LLC</td>\n",
              "      <td>41.922761</td>\n",
              "      <td>-87.699155</td>\n",
              "      <td>POINT (-87.69915534320002 41.9227606205)</td>\n",
              "      <td>41.901207</td>\n",
              "      <td>-87.676356</td>\n",
              "      <td>POINT (-87.6763559892 41.90120699410001)</td>\n",
              "    </tr>\n",
              "    <tr>\n",
              "      <th>2691</th>\n",
              "      <td>07f03869b6c0868a969b3703044f54203f84b079</td>\n",
              "      <td>19e804a8eab9224b352e6a384007418b519864a3e7c2d9...</td>\n",
              "      <td>2015-02-05 02:30:00 UTC</td>\n",
              "      <td>2015-02-05 02:30:00 UTC</td>\n",
              "      <td>360</td>\n",
              "      <td>1.0</td>\n",
              "      <td>NaN</td>\n",
              "      <td>NaN</td>\n",
              "      <td>22.0</td>\n",
              "      <td>24.0</td>\n",
              "      <td>...</td>\n",
              "      <td>0.0</td>\n",
              "      <td>5.25</td>\n",
              "      <td>Cash</td>\n",
              "      <td>Taxi Affiliation Services</td>\n",
              "      <td>41.922761</td>\n",
              "      <td>-87.699155</td>\n",
              "      <td>POINT (-87.69915534320002 41.9227606205)</td>\n",
              "      <td>41.901207</td>\n",
              "      <td>-87.676356</td>\n",
              "      <td>POINT (-87.6763559892 41.90120699410001)</td>\n",
              "    </tr>\n",
              "    <tr>\n",
              "      <th>2692</th>\n",
              "      <td>fccac9a86135ee147c1f947f84a1a2bca8d84fb4</td>\n",
              "      <td>7c099e06fc83409ec83a80b7817164db2067166f949ceb...</td>\n",
              "      <td>2015-03-12 11:45:00 UTC</td>\n",
              "      <td>2015-03-12 12:00:00 UTC</td>\n",
              "      <td>960</td>\n",
              "      <td>5.7</td>\n",
              "      <td>NaN</td>\n",
              "      <td>NaN</td>\n",
              "      <td>22.0</td>\n",
              "      <td>28.0</td>\n",
              "      <td>...</td>\n",
              "      <td>0.0</td>\n",
              "      <td>15.25</td>\n",
              "      <td>Cash</td>\n",
              "      <td>Taxi Affiliation Services</td>\n",
              "      <td>41.922761</td>\n",
              "      <td>-87.699155</td>\n",
              "      <td>POINT (-87.69915534320002 41.9227606205)</td>\n",
              "      <td>41.874005</td>\n",
              "      <td>-87.663518</td>\n",
              "      <td>POINT (-87.6635175498 41.874005383)</td>\n",
              "    </tr>\n",
              "  </tbody>\n",
              "</table>\n",
              "<p>2693 rows × 23 columns</p>\n",
              "</div>\n",
              "      <button class=\"colab-df-convert\" onclick=\"convertToInteractive('df-0fa0161e-0716-4890-9d31-343e5c9f0b6e')\"\n",
              "              title=\"Convert this dataframe to an interactive table.\"\n",
              "              style=\"display:none;\">\n",
              "\n",
              "  <svg xmlns=\"http://www.w3.org/2000/svg\" height=\"24px\"viewBox=\"0 0 24 24\"\n",
              "       width=\"24px\">\n",
              "    <path d=\"M0 0h24v24H0V0z\" fill=\"none\"/>\n",
              "    <path d=\"M18.56 5.44l.94 2.06.94-2.06 2.06-.94-2.06-.94-.94-2.06-.94 2.06-2.06.94zm-11 1L8.5 8.5l.94-2.06 2.06-.94-2.06-.94L8.5 2.5l-.94 2.06-2.06.94zm10 10l.94 2.06.94-2.06 2.06-.94-2.06-.94-.94-2.06-.94 2.06-2.06.94z\"/><path d=\"M17.41 7.96l-1.37-1.37c-.4-.4-.92-.59-1.43-.59-.52 0-1.04.2-1.43.59L10.3 9.45l-7.72 7.72c-.78.78-.78 2.05 0 2.83L4 21.41c.39.39.9.59 1.41.59.51 0 1.02-.2 1.41-.59l7.78-7.78 2.81-2.81c.8-.78.8-2.07 0-2.86zM5.41 20L4 18.59l7.72-7.72 1.47 1.35L5.41 20z\"/>\n",
              "  </svg>\n",
              "      </button>\n",
              "\n",
              "\n",
              "\n",
              "    <div id=\"df-a020cd3e-2806-4539-bf08-2e5fd89b7b2d\">\n",
              "      <button class=\"colab-df-quickchart\" onclick=\"quickchart('df-a020cd3e-2806-4539-bf08-2e5fd89b7b2d')\"\n",
              "              title=\"Suggest charts.\"\n",
              "              style=\"display:none;\">\n",
              "\n",
              "<svg xmlns=\"http://www.w3.org/2000/svg\" height=\"24px\"viewBox=\"0 0 24 24\"\n",
              "     width=\"24px\">\n",
              "    <g>\n",
              "        <path d=\"M19 3H5c-1.1 0-2 .9-2 2v14c0 1.1.9 2 2 2h14c1.1 0 2-.9 2-2V5c0-1.1-.9-2-2-2zM9 17H7v-7h2v7zm4 0h-2V7h2v10zm4 0h-2v-4h2v4z\"/>\n",
              "    </g>\n",
              "</svg>\n",
              "      </button>\n",
              "    </div>\n",
              "\n",
              "<style>\n",
              "  .colab-df-quickchart {\n",
              "    background-color: #E8F0FE;\n",
              "    border: none;\n",
              "    border-radius: 50%;\n",
              "    cursor: pointer;\n",
              "    display: none;\n",
              "    fill: #1967D2;\n",
              "    height: 32px;\n",
              "    padding: 0 0 0 0;\n",
              "    width: 32px;\n",
              "  }\n",
              "\n",
              "  .colab-df-quickchart:hover {\n",
              "    background-color: #E2EBFA;\n",
              "    box-shadow: 0px 1px 2px rgba(60, 64, 67, 0.3), 0px 1px 3px 1px rgba(60, 64, 67, 0.15);\n",
              "    fill: #174EA6;\n",
              "  }\n",
              "\n",
              "  [theme=dark] .colab-df-quickchart {\n",
              "    background-color: #3B4455;\n",
              "    fill: #D2E3FC;\n",
              "  }\n",
              "\n",
              "  [theme=dark] .colab-df-quickchart:hover {\n",
              "    background-color: #434B5C;\n",
              "    box-shadow: 0px 1px 3px 1px rgba(0, 0, 0, 0.15);\n",
              "    filter: drop-shadow(0px 1px 2px rgba(0, 0, 0, 0.3));\n",
              "    fill: #FFFFFF;\n",
              "  }\n",
              "</style>\n",
              "\n",
              "    <script>\n",
              "      async function quickchart(key) {\n",
              "        const containerElement = document.querySelector('#' + key);\n",
              "        const charts = await google.colab.kernel.invokeFunction(\n",
              "            'suggestCharts', [key], {});\n",
              "      }\n",
              "    </script>\n",
              "\n",
              "      <script>\n",
              "\n",
              "function displayQuickchartButton(domScope) {\n",
              "  let quickchartButtonEl =\n",
              "    domScope.querySelector('#df-a020cd3e-2806-4539-bf08-2e5fd89b7b2d button.colab-df-quickchart');\n",
              "  quickchartButtonEl.style.display =\n",
              "    google.colab.kernel.accessAllowed ? 'block' : 'none';\n",
              "}\n",
              "\n",
              "        displayQuickchartButton(document);\n",
              "      </script>\n",
              "      <style>\n",
              "    .colab-df-container {\n",
              "      display:flex;\n",
              "      flex-wrap:wrap;\n",
              "      gap: 12px;\n",
              "    }\n",
              "\n",
              "    .colab-df-convert {\n",
              "      background-color: #E8F0FE;\n",
              "      border: none;\n",
              "      border-radius: 50%;\n",
              "      cursor: pointer;\n",
              "      display: none;\n",
              "      fill: #1967D2;\n",
              "      height: 32px;\n",
              "      padding: 0 0 0 0;\n",
              "      width: 32px;\n",
              "    }\n",
              "\n",
              "    .colab-df-convert:hover {\n",
              "      background-color: #E2EBFA;\n",
              "      box-shadow: 0px 1px 2px rgba(60, 64, 67, 0.3), 0px 1px 3px 1px rgba(60, 64, 67, 0.15);\n",
              "      fill: #174EA6;\n",
              "    }\n",
              "\n",
              "    [theme=dark] .colab-df-convert {\n",
              "      background-color: #3B4455;\n",
              "      fill: #D2E3FC;\n",
              "    }\n",
              "\n",
              "    [theme=dark] .colab-df-convert:hover {\n",
              "      background-color: #434B5C;\n",
              "      box-shadow: 0px 1px 3px 1px rgba(0, 0, 0, 0.15);\n",
              "      filter: drop-shadow(0px 1px 2px rgba(0, 0, 0, 0.3));\n",
              "      fill: #FFFFFF;\n",
              "    }\n",
              "  </style>\n",
              "\n",
              "      <script>\n",
              "        const buttonEl =\n",
              "          document.querySelector('#df-0fa0161e-0716-4890-9d31-343e5c9f0b6e button.colab-df-convert');\n",
              "        buttonEl.style.display =\n",
              "          google.colab.kernel.accessAllowed ? 'block' : 'none';\n",
              "\n",
              "        async function convertToInteractive(key) {\n",
              "          const element = document.querySelector('#df-0fa0161e-0716-4890-9d31-343e5c9f0b6e');\n",
              "          const dataTable =\n",
              "            await google.colab.kernel.invokeFunction('convertToInteractive',\n",
              "                                                     [key], {});\n",
              "          if (!dataTable) return;\n",
              "\n",
              "          const docLinkHtml = 'Like what you see? Visit the ' +\n",
              "            '<a target=\"_blank\" href=https://colab.research.google.com/notebooks/data_table.ipynb>data table notebook</a>'\n",
              "            + ' to learn more about interactive tables.';\n",
              "          element.innerHTML = '';\n",
              "          dataTable['output_type'] = 'display_data';\n",
              "          await google.colab.output.renderOutput(dataTable, element);\n",
              "          const docLink = document.createElement('div');\n",
              "          docLink.innerHTML = docLinkHtml;\n",
              "          element.appendChild(docLink);\n",
              "        }\n",
              "      </script>\n",
              "    </div>\n",
              "  </div>\n"
            ]
          },
          "metadata": {},
          "execution_count": 125
        }
      ]
    },
    {
      "cell_type": "markdown",
      "source": [
        "## データ前処理"
      ],
      "metadata": {
        "id": "QbWqHGO0Bg4c"
      }
    },
    {
      "cell_type": "code",
      "source": [
        "import tensorflow as tf\n",
        "import numpy as np\n",
        "\n",
        "from tensorflow import keras\n",
        "from keras import layers\n",
        "print(tf.__version__)"
      ],
      "metadata": {
        "id": "G_ANvHK1BptW",
        "colab": {
          "base_uri": "https://localhost:8080/"
        },
        "outputId": "9806427f-54e5-4a0e-a649-a920a9be53b1"
      },
      "execution_count": 126,
      "outputs": [
        {
          "output_type": "stream",
          "name": "stdout",
          "text": [
            "2.12.0\n"
          ]
        }
      ]
    },
    {
      "cell_type": "markdown",
      "source": [
        "### 欠損値を確認"
      ],
      "metadata": {
        "id": "BEYt7HKZ-108"
      }
    },
    {
      "cell_type": "code",
      "source": [
        "dataset.isna().sum()"
      ],
      "metadata": {
        "colab": {
          "base_uri": "https://localhost:8080/"
        },
        "id": "0JkKNqFX9lOx",
        "outputId": "76924f7d-282c-4e84-8b21-150bf6700a66"
      },
      "execution_count": 127,
      "outputs": [
        {
          "output_type": "execute_result",
          "data": {
            "text/plain": [
              "unique_key                  0\n",
              "taxi_id                     0\n",
              "trip_start_timestamp        0\n",
              "trip_end_timestamp          0\n",
              "trip_seconds                0\n",
              "trip_miles                  0\n",
              "pickup_census_tract       980\n",
              "dropoff_census_tract      990\n",
              "pickup_community_area     366\n",
              "dropoff_community_area    421\n",
              "fare                        0\n",
              "tips                        0\n",
              "tolls                      10\n",
              "extras                      0\n",
              "trip_total                  0\n",
              "payment_type                0\n",
              "company                    13\n",
              "pickup_latitude           366\n",
              "pickup_longitude          366\n",
              "pickup_location           366\n",
              "dropoff_latitude          420\n",
              "dropoff_longitude         420\n",
              "dropoff_location          420\n",
              "dtype: int64"
            ]
          },
          "metadata": {},
          "execution_count": 127
        }
      ]
    },
    {
      "cell_type": "markdown",
      "source": [
        "欠損値と`id`,`key`などを削除"
      ],
      "metadata": {
        "id": "Drw6EkwTD7a0"
      }
    },
    {
      "cell_type": "code",
      "source": [
        "dataset = dataset.drop(\"unique_key\",axis=1).drop(\"taxi_id\",axis=1).dropna(axis=1)"
      ],
      "metadata": {
        "id": "-2jTCPS-hK0U"
      },
      "execution_count": 128,
      "outputs": []
    },
    {
      "cell_type": "markdown",
      "source": [
        "`payment_type`を数値化"
      ],
      "metadata": {
        "id": "kWPODl7sD0nP"
      }
    },
    {
      "cell_type": "code",
      "source": [
        "dict = {'Cash': 1, 'Credit Card': 2, 'Dispute': 3, 'No Charge': 4, 'Unknown': 5, 'Prcard': 6, 'Mobile': 7, }\n",
        "dataset['payment_type'] = [dict[item] for item in dataset['payment_type']]"
      ],
      "metadata": {
        "id": "c9B7_aiqh5qI"
      },
      "execution_count": 129,
      "outputs": []
    },
    {
      "cell_type": "markdown",
      "source": [
        "`String`型の`trip_start_timestamp`と`trip_end_timestamp`をタイムスタンプ型に変更"
      ],
      "metadata": {
        "id": "ft5eu5jNNcoQ"
      }
    },
    {
      "cell_type": "code",
      "source": [
        "from datetime import datetime\n",
        "dataset['trip_start_timestamp']=[datetime.timestamp(datetime.strptime(item.replace(' UTC',''), '%Y-%m-%d %H:%M:%S')) for item in dataset['trip_start_timestamp']]\n",
        "dataset['trip_end_timestamp']=[datetime.timestamp(datetime.strptime(item.replace(' UTC',''), '%Y-%m-%d %H:%M:%S')) for item in dataset['trip_end_timestamp']]\n"
      ],
      "metadata": {
        "id": "HQ_IX1kyEMZz"
      },
      "execution_count": 130,
      "outputs": []
    },
    {
      "cell_type": "code",
      "source": [
        "dataset"
      ],
      "metadata": {
        "colab": {
          "base_uri": "https://localhost:8080/",
          "height": 488
        },
        "id": "vGqFwKn_hWEp",
        "outputId": "b9914402-7946-4aa6-fe6e-8c576180ee6f"
      },
      "execution_count": 131,
      "outputs": [
        {
          "output_type": "execute_result",
          "data": {
            "text/plain": [
              "      trip_start_timestamp  trip_end_timestamp  trip_seconds  trip_miles  \\\n",
              "0             1.418370e+09        1.418370e+09             0         0.0   \n",
              "1             1.420483e+09        1.420483e+09           360         1.2   \n",
              "2             1.420536e+09        1.420538e+09          1080         3.5   \n",
              "3             1.415766e+09        1.415766e+09           300         1.0   \n",
              "4             1.418330e+09        1.418332e+09          1200        10.3   \n",
              "...                    ...                 ...           ...         ...   \n",
              "2688          1.422329e+09        1.422329e+09           600         2.3   \n",
              "2689          1.426284e+09        1.426284e+09           540         0.2   \n",
              "2690          1.426280e+09        1.426281e+09           420         1.2   \n",
              "2691          1.423103e+09        1.423103e+09           360         1.0   \n",
              "2692          1.426161e+09        1.426162e+09           960         5.7   \n",
              "\n",
              "       fare  tips  extras  trip_total  payment_type  \n",
              "0      3.25   0.0     0.0        3.25             1  \n",
              "1      5.85   0.0     0.0        5.85             1  \n",
              "2     11.85   0.0     0.0       11.85             1  \n",
              "3      5.65   0.0     0.0        5.65             1  \n",
              "4     23.65   6.4     2.0       32.05             2  \n",
              "...     ...   ...     ...         ...           ...  \n",
              "2688   8.25   0.0     0.0        8.25             1  \n",
              "2689  10.25   0.0     0.0       10.25             1  \n",
              "2690   5.85   0.0     0.0        5.85             1  \n",
              "2691   5.25   0.0     0.0        5.25             1  \n",
              "2692  15.25   0.0     0.0       15.25             1  \n",
              "\n",
              "[2693 rows x 9 columns]"
            ],
            "text/html": [
              "\n",
              "\n",
              "  <div id=\"df-8e7cb9b4-7575-4cf7-bd9a-f654bd5d8a5e\">\n",
              "    <div class=\"colab-df-container\">\n",
              "      <div>\n",
              "<style scoped>\n",
              "    .dataframe tbody tr th:only-of-type {\n",
              "        vertical-align: middle;\n",
              "    }\n",
              "\n",
              "    .dataframe tbody tr th {\n",
              "        vertical-align: top;\n",
              "    }\n",
              "\n",
              "    .dataframe thead th {\n",
              "        text-align: right;\n",
              "    }\n",
              "</style>\n",
              "<table border=\"1\" class=\"dataframe\">\n",
              "  <thead>\n",
              "    <tr style=\"text-align: right;\">\n",
              "      <th></th>\n",
              "      <th>trip_start_timestamp</th>\n",
              "      <th>trip_end_timestamp</th>\n",
              "      <th>trip_seconds</th>\n",
              "      <th>trip_miles</th>\n",
              "      <th>fare</th>\n",
              "      <th>tips</th>\n",
              "      <th>extras</th>\n",
              "      <th>trip_total</th>\n",
              "      <th>payment_type</th>\n",
              "    </tr>\n",
              "  </thead>\n",
              "  <tbody>\n",
              "    <tr>\n",
              "      <th>0</th>\n",
              "      <td>1.418370e+09</td>\n",
              "      <td>1.418370e+09</td>\n",
              "      <td>0</td>\n",
              "      <td>0.0</td>\n",
              "      <td>3.25</td>\n",
              "      <td>0.0</td>\n",
              "      <td>0.0</td>\n",
              "      <td>3.25</td>\n",
              "      <td>1</td>\n",
              "    </tr>\n",
              "    <tr>\n",
              "      <th>1</th>\n",
              "      <td>1.420483e+09</td>\n",
              "      <td>1.420483e+09</td>\n",
              "      <td>360</td>\n",
              "      <td>1.2</td>\n",
              "      <td>5.85</td>\n",
              "      <td>0.0</td>\n",
              "      <td>0.0</td>\n",
              "      <td>5.85</td>\n",
              "      <td>1</td>\n",
              "    </tr>\n",
              "    <tr>\n",
              "      <th>2</th>\n",
              "      <td>1.420536e+09</td>\n",
              "      <td>1.420538e+09</td>\n",
              "      <td>1080</td>\n",
              "      <td>3.5</td>\n",
              "      <td>11.85</td>\n",
              "      <td>0.0</td>\n",
              "      <td>0.0</td>\n",
              "      <td>11.85</td>\n",
              "      <td>1</td>\n",
              "    </tr>\n",
              "    <tr>\n",
              "      <th>3</th>\n",
              "      <td>1.415766e+09</td>\n",
              "      <td>1.415766e+09</td>\n",
              "      <td>300</td>\n",
              "      <td>1.0</td>\n",
              "      <td>5.65</td>\n",
              "      <td>0.0</td>\n",
              "      <td>0.0</td>\n",
              "      <td>5.65</td>\n",
              "      <td>1</td>\n",
              "    </tr>\n",
              "    <tr>\n",
              "      <th>4</th>\n",
              "      <td>1.418330e+09</td>\n",
              "      <td>1.418332e+09</td>\n",
              "      <td>1200</td>\n",
              "      <td>10.3</td>\n",
              "      <td>23.65</td>\n",
              "      <td>6.4</td>\n",
              "      <td>2.0</td>\n",
              "      <td>32.05</td>\n",
              "      <td>2</td>\n",
              "    </tr>\n",
              "    <tr>\n",
              "      <th>...</th>\n",
              "      <td>...</td>\n",
              "      <td>...</td>\n",
              "      <td>...</td>\n",
              "      <td>...</td>\n",
              "      <td>...</td>\n",
              "      <td>...</td>\n",
              "      <td>...</td>\n",
              "      <td>...</td>\n",
              "      <td>...</td>\n",
              "    </tr>\n",
              "    <tr>\n",
              "      <th>2688</th>\n",
              "      <td>1.422329e+09</td>\n",
              "      <td>1.422329e+09</td>\n",
              "      <td>600</td>\n",
              "      <td>2.3</td>\n",
              "      <td>8.25</td>\n",
              "      <td>0.0</td>\n",
              "      <td>0.0</td>\n",
              "      <td>8.25</td>\n",
              "      <td>1</td>\n",
              "    </tr>\n",
              "    <tr>\n",
              "      <th>2689</th>\n",
              "      <td>1.426284e+09</td>\n",
              "      <td>1.426284e+09</td>\n",
              "      <td>540</td>\n",
              "      <td>0.2</td>\n",
              "      <td>10.25</td>\n",
              "      <td>0.0</td>\n",
              "      <td>0.0</td>\n",
              "      <td>10.25</td>\n",
              "      <td>1</td>\n",
              "    </tr>\n",
              "    <tr>\n",
              "      <th>2690</th>\n",
              "      <td>1.426280e+09</td>\n",
              "      <td>1.426281e+09</td>\n",
              "      <td>420</td>\n",
              "      <td>1.2</td>\n",
              "      <td>5.85</td>\n",
              "      <td>0.0</td>\n",
              "      <td>0.0</td>\n",
              "      <td>5.85</td>\n",
              "      <td>1</td>\n",
              "    </tr>\n",
              "    <tr>\n",
              "      <th>2691</th>\n",
              "      <td>1.423103e+09</td>\n",
              "      <td>1.423103e+09</td>\n",
              "      <td>360</td>\n",
              "      <td>1.0</td>\n",
              "      <td>5.25</td>\n",
              "      <td>0.0</td>\n",
              "      <td>0.0</td>\n",
              "      <td>5.25</td>\n",
              "      <td>1</td>\n",
              "    </tr>\n",
              "    <tr>\n",
              "      <th>2692</th>\n",
              "      <td>1.426161e+09</td>\n",
              "      <td>1.426162e+09</td>\n",
              "      <td>960</td>\n",
              "      <td>5.7</td>\n",
              "      <td>15.25</td>\n",
              "      <td>0.0</td>\n",
              "      <td>0.0</td>\n",
              "      <td>15.25</td>\n",
              "      <td>1</td>\n",
              "    </tr>\n",
              "  </tbody>\n",
              "</table>\n",
              "<p>2693 rows × 9 columns</p>\n",
              "</div>\n",
              "      <button class=\"colab-df-convert\" onclick=\"convertToInteractive('df-8e7cb9b4-7575-4cf7-bd9a-f654bd5d8a5e')\"\n",
              "              title=\"Convert this dataframe to an interactive table.\"\n",
              "              style=\"display:none;\">\n",
              "\n",
              "  <svg xmlns=\"http://www.w3.org/2000/svg\" height=\"24px\"viewBox=\"0 0 24 24\"\n",
              "       width=\"24px\">\n",
              "    <path d=\"M0 0h24v24H0V0z\" fill=\"none\"/>\n",
              "    <path d=\"M18.56 5.44l.94 2.06.94-2.06 2.06-.94-2.06-.94-.94-2.06-.94 2.06-2.06.94zm-11 1L8.5 8.5l.94-2.06 2.06-.94-2.06-.94L8.5 2.5l-.94 2.06-2.06.94zm10 10l.94 2.06.94-2.06 2.06-.94-2.06-.94-.94-2.06-.94 2.06-2.06.94z\"/><path d=\"M17.41 7.96l-1.37-1.37c-.4-.4-.92-.59-1.43-.59-.52 0-1.04.2-1.43.59L10.3 9.45l-7.72 7.72c-.78.78-.78 2.05 0 2.83L4 21.41c.39.39.9.59 1.41.59.51 0 1.02-.2 1.41-.59l7.78-7.78 2.81-2.81c.8-.78.8-2.07 0-2.86zM5.41 20L4 18.59l7.72-7.72 1.47 1.35L5.41 20z\"/>\n",
              "  </svg>\n",
              "      </button>\n",
              "\n",
              "\n",
              "\n",
              "    <div id=\"df-d95dcc2e-07ba-43d4-90f7-d785247e4496\">\n",
              "      <button class=\"colab-df-quickchart\" onclick=\"quickchart('df-d95dcc2e-07ba-43d4-90f7-d785247e4496')\"\n",
              "              title=\"Suggest charts.\"\n",
              "              style=\"display:none;\">\n",
              "\n",
              "<svg xmlns=\"http://www.w3.org/2000/svg\" height=\"24px\"viewBox=\"0 0 24 24\"\n",
              "     width=\"24px\">\n",
              "    <g>\n",
              "        <path d=\"M19 3H5c-1.1 0-2 .9-2 2v14c0 1.1.9 2 2 2h14c1.1 0 2-.9 2-2V5c0-1.1-.9-2-2-2zM9 17H7v-7h2v7zm4 0h-2V7h2v10zm4 0h-2v-4h2v4z\"/>\n",
              "    </g>\n",
              "</svg>\n",
              "      </button>\n",
              "    </div>\n",
              "\n",
              "<style>\n",
              "  .colab-df-quickchart {\n",
              "    background-color: #E8F0FE;\n",
              "    border: none;\n",
              "    border-radius: 50%;\n",
              "    cursor: pointer;\n",
              "    display: none;\n",
              "    fill: #1967D2;\n",
              "    height: 32px;\n",
              "    padding: 0 0 0 0;\n",
              "    width: 32px;\n",
              "  }\n",
              "\n",
              "  .colab-df-quickchart:hover {\n",
              "    background-color: #E2EBFA;\n",
              "    box-shadow: 0px 1px 2px rgba(60, 64, 67, 0.3), 0px 1px 3px 1px rgba(60, 64, 67, 0.15);\n",
              "    fill: #174EA6;\n",
              "  }\n",
              "\n",
              "  [theme=dark] .colab-df-quickchart {\n",
              "    background-color: #3B4455;\n",
              "    fill: #D2E3FC;\n",
              "  }\n",
              "\n",
              "  [theme=dark] .colab-df-quickchart:hover {\n",
              "    background-color: #434B5C;\n",
              "    box-shadow: 0px 1px 3px 1px rgba(0, 0, 0, 0.15);\n",
              "    filter: drop-shadow(0px 1px 2px rgba(0, 0, 0, 0.3));\n",
              "    fill: #FFFFFF;\n",
              "  }\n",
              "</style>\n",
              "\n",
              "    <script>\n",
              "      async function quickchart(key) {\n",
              "        const containerElement = document.querySelector('#' + key);\n",
              "        const charts = await google.colab.kernel.invokeFunction(\n",
              "            'suggestCharts', [key], {});\n",
              "      }\n",
              "    </script>\n",
              "\n",
              "      <script>\n",
              "\n",
              "function displayQuickchartButton(domScope) {\n",
              "  let quickchartButtonEl =\n",
              "    domScope.querySelector('#df-d95dcc2e-07ba-43d4-90f7-d785247e4496 button.colab-df-quickchart');\n",
              "  quickchartButtonEl.style.display =\n",
              "    google.colab.kernel.accessAllowed ? 'block' : 'none';\n",
              "}\n",
              "\n",
              "        displayQuickchartButton(document);\n",
              "      </script>\n",
              "      <style>\n",
              "    .colab-df-container {\n",
              "      display:flex;\n",
              "      flex-wrap:wrap;\n",
              "      gap: 12px;\n",
              "    }\n",
              "\n",
              "    .colab-df-convert {\n",
              "      background-color: #E8F0FE;\n",
              "      border: none;\n",
              "      border-radius: 50%;\n",
              "      cursor: pointer;\n",
              "      display: none;\n",
              "      fill: #1967D2;\n",
              "      height: 32px;\n",
              "      padding: 0 0 0 0;\n",
              "      width: 32px;\n",
              "    }\n",
              "\n",
              "    .colab-df-convert:hover {\n",
              "      background-color: #E2EBFA;\n",
              "      box-shadow: 0px 1px 2px rgba(60, 64, 67, 0.3), 0px 1px 3px 1px rgba(60, 64, 67, 0.15);\n",
              "      fill: #174EA6;\n",
              "    }\n",
              "\n",
              "    [theme=dark] .colab-df-convert {\n",
              "      background-color: #3B4455;\n",
              "      fill: #D2E3FC;\n",
              "    }\n",
              "\n",
              "    [theme=dark] .colab-df-convert:hover {\n",
              "      background-color: #434B5C;\n",
              "      box-shadow: 0px 1px 3px 1px rgba(0, 0, 0, 0.15);\n",
              "      filter: drop-shadow(0px 1px 2px rgba(0, 0, 0, 0.3));\n",
              "      fill: #FFFFFF;\n",
              "    }\n",
              "  </style>\n",
              "\n",
              "      <script>\n",
              "        const buttonEl =\n",
              "          document.querySelector('#df-8e7cb9b4-7575-4cf7-bd9a-f654bd5d8a5e button.colab-df-convert');\n",
              "        buttonEl.style.display =\n",
              "          google.colab.kernel.accessAllowed ? 'block' : 'none';\n",
              "\n",
              "        async function convertToInteractive(key) {\n",
              "          const element = document.querySelector('#df-8e7cb9b4-7575-4cf7-bd9a-f654bd5d8a5e');\n",
              "          const dataTable =\n",
              "            await google.colab.kernel.invokeFunction('convertToInteractive',\n",
              "                                                     [key], {});\n",
              "          if (!dataTable) return;\n",
              "\n",
              "          const docLinkHtml = 'Like what you see? Visit the ' +\n",
              "            '<a target=\"_blank\" href=https://colab.research.google.com/notebooks/data_table.ipynb>data table notebook</a>'\n",
              "            + ' to learn more about interactive tables.';\n",
              "          element.innerHTML = '';\n",
              "          dataTable['output_type'] = 'display_data';\n",
              "          await google.colab.output.renderOutput(dataTable, element);\n",
              "          const docLink = document.createElement('div');\n",
              "          docLink.innerHTML = docLinkHtml;\n",
              "          element.appendChild(docLink);\n",
              "        }\n",
              "      </script>\n",
              "    </div>\n",
              "  </div>\n"
            ]
          },
          "metadata": {},
          "execution_count": 131
        }
      ]
    },
    {
      "cell_type": "markdown",
      "source": [
        "### データを観察"
      ],
      "metadata": {
        "id": "H6uC245_Dxbx"
      }
    },
    {
      "cell_type": "code",
      "source": [
        "pip install -q seaborn"
      ],
      "metadata": {
        "id": "9SeEZqpoCgRf"
      },
      "execution_count": 132,
      "outputs": []
    },
    {
      "cell_type": "code",
      "source": [
        "import seaborn as sns"
      ],
      "metadata": {
        "id": "_OUquHdhD28v"
      },
      "execution_count": 133,
      "outputs": []
    },
    {
      "cell_type": "code",
      "source": [
        "sns.pairplot(dataset[[\"trip_total\", \"trip_seconds\", \"trip_miles\"]], diag_kind = \"kde\")"
      ],
      "metadata": {
        "colab": {
          "base_uri": "https://localhost:8080/",
          "height": 776
        },
        "id": "kkk5IB5jEd46",
        "outputId": "e04f2f76-20fa-483e-ef29-6b1bed67864c"
      },
      "execution_count": 134,
      "outputs": [
        {
          "output_type": "execute_result",
          "data": {
            "text/plain": [
              "<seaborn.axisgrid.PairGrid at 0x7aebfe329ba0>"
            ]
          },
          "metadata": {},
          "execution_count": 134
        },
        {
          "output_type": "display_data",
          "data": {
            "text/plain": [
              "<Figure size 750x750 with 12 Axes>"
            ],
            "image/png": "[encoded data removed]"
          },
          "metadata": {}
        }
      ]
    },
    {
      "cell_type": "markdown",
      "source": [
        "`trip_total`と`trip_seconds`, `trip_miles`の相関関係は基本的に正相関"
      ],
      "metadata": {
        "id": "0BxcF7R_V5N7"
      }
    },
    {
      "cell_type": "markdown",
      "source": [
        "### トレーニングデータとテストデータを分割"
      ],
      "metadata": {
        "id": "EeurEYwaCjOF"
      }
    },
    {
      "cell_type": "code",
      "source": [
        "train_dataset = dataset.sample(frac=0.8, random_state=0)\n",
        "test_dataset = dataset.drop(train_dataset.index)"
      ],
      "metadata": {
        "id": "SsQ0HWErCsnk"
      },
      "execution_count": 135,
      "outputs": []
    },
    {
      "cell_type": "markdown",
      "source": [
        "### ラベルと特徴量を分割"
      ],
      "metadata": {
        "id": "EgPJS3paM3dv"
      }
    },
    {
      "cell_type": "code",
      "source": [
        "train_features = train_dataset.copy()\n",
        "test_features = test_dataset.copy()\n",
        "\n",
        "train_labels = train_features.pop('trip_total')\n",
        "test_labels = test_features.pop('trip_total')"
      ],
      "metadata": {
        "id": "XjhGgHNqNBJm"
      },
      "execution_count": 136,
      "outputs": []
    },
    {
      "cell_type": "markdown",
      "source": [
        "### 正規化"
      ],
      "metadata": {
        "id": "7hs-_kWsdme5"
      }
    },
    {
      "cell_type": "code",
      "source": [
        "train_dataset.describe().transpose()[['mean', 'std']]"
      ],
      "metadata": {
        "colab": {
          "base_uri": "https://localhost:8080/",
          "height": 332
        },
        "id": "fcf_699IdixZ",
        "outputId": "36089b29-3fb5-44bb-eafb-0c027dc4d2d1"
      },
      "execution_count": 137,
      "outputs": [
        {
          "output_type": "execute_result",
          "data": {
            "text/plain": [
              "                              mean           std\n",
              "trip_start_timestamp  1.425025e+09  3.032599e+07\n",
              "trip_end_timestamp    1.425026e+09  3.032607e+07\n",
              "trip_seconds          6.581309e+02  7.625172e+02\n",
              "trip_miles            2.207693e+00  5.091093e+00\n",
              "fare                  1.180144e+01  1.071782e+01\n",
              "tips                  1.273500e+00  2.160757e+00\n",
              "extras                6.603157e-01  1.666713e+00\n",
              "trip_total            1.373897e+01  1.251897e+01\n",
              "payment_type          1.480966e+00  6.662592e-01"
            ],
            "text/html": [
              "\n",
              "\n",
              "  <div id=\"df-0648b538-44b5-4248-ba9f-b7eecff3cc19\">\n",
              "    <div class=\"colab-df-container\">\n",
              "      <div>\n",
              "<style scoped>\n",
              "    .dataframe tbody tr th:only-of-type {\n",
              "        vertical-align: middle;\n",
              "    }\n",
              "\n",
              "    .dataframe tbody tr th {\n",
              "        vertical-align: top;\n",
              "    }\n",
              "\n",
              "    .dataframe thead th {\n",
              "        text-align: right;\n",
              "    }\n",
              "</style>\n",
              "<table border=\"1\" class=\"dataframe\">\n",
              "  <thead>\n",
              "    <tr style=\"text-align: right;\">\n",
              "      <th></th>\n",
              "      <th>mean</th>\n",
              "      <th>std</th>\n",
              "    </tr>\n",
              "  </thead>\n",
              "  <tbody>\n",
              "    <tr>\n",
              "      <th>trip_start_timestamp</th>\n",
              "      <td>1.425025e+09</td>\n",
              "      <td>3.032599e+07</td>\n",
              "    </tr>\n",
              "    <tr>\n",
              "      <th>trip_end_timestamp</th>\n",
              "      <td>1.425026e+09</td>\n",
              "      <td>3.032607e+07</td>\n",
              "    </tr>\n",
              "    <tr>\n",
              "      <th>trip_seconds</th>\n",
              "      <td>6.581309e+02</td>\n",
              "      <td>7.625172e+02</td>\n",
              "    </tr>\n",
              "    <tr>\n",
              "      <th>trip_miles</th>\n",
              "      <td>2.207693e+00</td>\n",
              "      <td>5.091093e+00</td>\n",
              "    </tr>\n",
              "    <tr>\n",
              "      <th>fare</th>\n",
              "      <td>1.180144e+01</td>\n",
              "      <td>1.071782e+01</td>\n",
              "    </tr>\n",
              "    <tr>\n",
              "      <th>tips</th>\n",
              "      <td>1.273500e+00</td>\n",
              "      <td>2.160757e+00</td>\n",
              "    </tr>\n",
              "    <tr>\n",
              "      <th>extras</th>\n",
              "      <td>6.603157e-01</td>\n",
              "      <td>1.666713e+00</td>\n",
              "    </tr>\n",
              "    <tr>\n",
              "      <th>trip_total</th>\n",
              "      <td>1.373897e+01</td>\n",
              "      <td>1.251897e+01</td>\n",
              "    </tr>\n",
              "    <tr>\n",
              "      <th>payment_type</th>\n",
              "      <td>1.480966e+00</td>\n",
              "      <td>6.662592e-01</td>\n",
              "    </tr>\n",
              "  </tbody>\n",
              "</table>\n",
              "</div>\n",
              "      <button class=\"colab-df-convert\" onclick=\"convertToInteractive('df-0648b538-44b5-4248-ba9f-b7eecff3cc19')\"\n",
              "              title=\"Convert this dataframe to an interactive table.\"\n",
              "              style=\"display:none;\">\n",
              "\n",
              "  <svg xmlns=\"http://www.w3.org/2000/svg\" height=\"24px\"viewBox=\"0 0 24 24\"\n",
              "       width=\"24px\">\n",
              "    <path d=\"M0 0h24v24H0V0z\" fill=\"none\"/>\n",
              "    <path d=\"M18.56 5.44l.94 2.06.94-2.06 2.06-.94-2.06-.94-.94-2.06-.94 2.06-2.06.94zm-11 1L8.5 8.5l.94-2.06 2.06-.94-2.06-.94L8.5 2.5l-.94 2.06-2.06.94zm10 10l.94 2.06.94-2.06 2.06-.94-2.06-.94-.94-2.06-.94 2.06-2.06.94z\"/><path d=\"M17.41 7.96l-1.37-1.37c-.4-.4-.92-.59-1.43-.59-.52 0-1.04.2-1.43.59L10.3 9.45l-7.72 7.72c-.78.78-.78 2.05 0 2.83L4 21.41c.39.39.9.59 1.41.59.51 0 1.02-.2 1.41-.59l7.78-7.78 2.81-2.81c.8-.78.8-2.07 0-2.86zM5.41 20L4 18.59l7.72-7.72 1.47 1.35L5.41 20z\"/>\n",
              "  </svg>\n",
              "      </button>\n",
              "\n",
              "\n",
              "\n",
              "    <div id=\"df-afc3159c-ecbd-4b27-9088-dd03e6c43d16\">\n",
              "      <button class=\"colab-df-quickchart\" onclick=\"quickchart('df-afc3159c-ecbd-4b27-9088-dd03e6c43d16')\"\n",
              "              title=\"Suggest charts.\"\n",
              "              style=\"display:none;\">\n",
              "\n",
              "<svg xmlns=\"http://www.w3.org/2000/svg\" height=\"24px\"viewBox=\"0 0 24 24\"\n",
              "     width=\"24px\">\n",
              "    <g>\n",
              "        <path d=\"M19 3H5c-1.1 0-2 .9-2 2v14c0 1.1.9 2 2 2h14c1.1 0 2-.9 2-2V5c0-1.1-.9-2-2-2zM9 17H7v-7h2v7zm4 0h-2V7h2v10zm4 0h-2v-4h2v4z\"/>\n",
              "    </g>\n",
              "</svg>\n",
              "      </button>\n",
              "    </div>\n",
              "\n",
              "<style>\n",
              "  .colab-df-quickchart {\n",
              "    background-color: #E8F0FE;\n",
              "    border: none;\n",
              "    border-radius: 50%;\n",
              "    cursor: pointer;\n",
              "    display: none;\n",
              "    fill: #1967D2;\n",
              "    height: 32px;\n",
              "    padding: 0 0 0 0;\n",
              "    width: 32px;\n",
              "  }\n",
              "\n",
              "  .colab-df-quickchart:hover {\n",
              "    background-color: #E2EBFA;\n",
              "    box-shadow: 0px 1px 2px rgba(60, 64, 67, 0.3), 0px 1px 3px 1px rgba(60, 64, 67, 0.15);\n",
              "    fill: #174EA6;\n",
              "  }\n",
              "\n",
              "  [theme=dark] .colab-df-quickchart {\n",
              "    background-color: #3B4455;\n",
              "    fill: #D2E3FC;\n",
              "  }\n",
              "\n",
              "  [theme=dark] .colab-df-quickchart:hover {\n",
              "    background-color: #434B5C;\n",
              "    box-shadow: 0px 1px 3px 1px rgba(0, 0, 0, 0.15);\n",
              "    filter: drop-shadow(0px 1px 2px rgba(0, 0, 0, 0.3));\n",
              "    fill: #FFFFFF;\n",
              "  }\n",
              "</style>\n",
              "\n",
              "    <script>\n",
              "      async function quickchart(key) {\n",
              "        const containerElement = document.querySelector('#' + key);\n",
              "        const charts = await google.colab.kernel.invokeFunction(\n",
              "            'suggestCharts', [key], {});\n",
              "      }\n",
              "    </script>\n",
              "\n",
              "      <script>\n",
              "\n",
              "function displayQuickchartButton(domScope) {\n",
              "  let quickchartButtonEl =\n",
              "    domScope.querySelector('#df-afc3159c-ecbd-4b27-9088-dd03e6c43d16 button.colab-df-quickchart');\n",
              "  quickchartButtonEl.style.display =\n",
              "    google.colab.kernel.accessAllowed ? 'block' : 'none';\n",
              "}\n",
              "\n",
              "        displayQuickchartButton(document);\n",
              "      </script>\n",
              "      <style>\n",
              "    .colab-df-container {\n",
              "      display:flex;\n",
              "      flex-wrap:wrap;\n",
              "      gap: 12px;\n",
              "    }\n",
              "\n",
              "    .colab-df-convert {\n",
              "      background-color: #E8F0FE;\n",
              "      border: none;\n",
              "      border-radius: 50%;\n",
              "      cursor: pointer;\n",
              "      display: none;\n",
              "      fill: #1967D2;\n",
              "      height: 32px;\n",
              "      padding: 0 0 0 0;\n",
              "      width: 32px;\n",
              "    }\n",
              "\n",
              "    .colab-df-convert:hover {\n",
              "      background-color: #E2EBFA;\n",
              "      box-shadow: 0px 1px 2px rgba(60, 64, 67, 0.3), 0px 1px 3px 1px rgba(60, 64, 67, 0.15);\n",
              "      fill: #174EA6;\n",
              "    }\n",
              "\n",
              "    [theme=dark] .colab-df-convert {\n",
              "      background-color: #3B4455;\n",
              "      fill: #D2E3FC;\n",
              "    }\n",
              "\n",
              "    [theme=dark] .colab-df-convert:hover {\n",
              "      background-color: #434B5C;\n",
              "      box-shadow: 0px 1px 3px 1px rgba(0, 0, 0, 0.15);\n",
              "      filter: drop-shadow(0px 1px 2px rgba(0, 0, 0, 0.3));\n",
              "      fill: #FFFFFF;\n",
              "    }\n",
              "  </style>\n",
              "\n",
              "      <script>\n",
              "        const buttonEl =\n",
              "          document.querySelector('#df-0648b538-44b5-4248-ba9f-b7eecff3cc19 button.colab-df-convert');\n",
              "        buttonEl.style.display =\n",
              "          google.colab.kernel.accessAllowed ? 'block' : 'none';\n",
              "\n",
              "        async function convertToInteractive(key) {\n",
              "          const element = document.querySelector('#df-0648b538-44b5-4248-ba9f-b7eecff3cc19');\n",
              "          const dataTable =\n",
              "            await google.colab.kernel.invokeFunction('convertToInteractive',\n",
              "                                                     [key], {});\n",
              "          if (!dataTable) return;\n",
              "\n",
              "          const docLinkHtml = 'Like what you see? Visit the ' +\n",
              "            '<a target=\"_blank\" href=https://colab.research.google.com/notebooks/data_table.ipynb>data table notebook</a>'\n",
              "            + ' to learn more about interactive tables.';\n",
              "          element.innerHTML = '';\n",
              "          dataTable['output_type'] = 'display_data';\n",
              "          await google.colab.output.renderOutput(dataTable, element);\n",
              "          const docLink = document.createElement('div');\n",
              "          docLink.innerHTML = docLinkHtml;\n",
              "          element.appendChild(docLink);\n",
              "        }\n",
              "      </script>\n",
              "    </div>\n",
              "  </div>\n"
            ]
          },
          "metadata": {},
          "execution_count": 137
        }
      ]
    },
    {
      "cell_type": "code",
      "source": [
        "normalizer = tf.keras.layers.Normalization(axis=-1)"
      ],
      "metadata": {
        "id": "gp_5XGEJd549"
      },
      "execution_count": 138,
      "outputs": []
    },
    {
      "cell_type": "code",
      "source": [
        "np.asarray(train_features).astype(np.float32)"
      ],
      "metadata": {
        "colab": {
          "base_uri": "https://localhost:8080/"
        },
        "id": "o4WIs0pGfcGG",
        "outputId": "2693aab8-411e-43b6-9a5e-2a3f55f126ee"
      },
      "execution_count": 139,
      "outputs": [
        {
          "output_type": "execute_result",
          "data": {
            "text/plain": [
              "array([[1.4196114e+09, 1.4196132e+09, 1.5600000e+03, ..., 0.0000000e+00,\n",
              "        0.0000000e+00, 1.0000000e+00],\n",
              "       [1.4215662e+09, 1.4215662e+09, 4.2000000e+02, ..., 0.0000000e+00,\n",
              "        1.0000000e+00, 1.0000000e+00],\n",
              "       [1.4219145e+09, 1.4219154e+09, 4.2000000e+02, ..., 0.0000000e+00,\n",
              "        0.0000000e+00, 1.0000000e+00],\n",
              "       ...,\n",
              "       [1.4185386e+09, 1.4185404e+09, 1.6200000e+03, ..., 1.2500000e+01,\n",
              "        2.0000000e+00, 2.0000000e+00],\n",
              "       [1.4225553e+09, 1.4225553e+09, 0.0000000e+00, ..., 1.1300000e+00,\n",
              "        0.0000000e+00, 2.0000000e+00],\n",
              "       [1.4225805e+09, 1.4225805e+09, 5.4000000e+02, ..., 2.0000000e+00,\n",
              "        1.0000000e+00, 2.0000000e+00]], dtype=float32)"
            ]
          },
          "metadata": {},
          "execution_count": 139
        }
      ]
    },
    {
      "cell_type": "code",
      "source": [
        "normalizer.adapt(train_features)"
      ],
      "metadata": {
        "id": "0vPcXP1YeYxs"
      },
      "execution_count": 140,
      "outputs": []
    },
    {
      "cell_type": "code",
      "source": [
        "print(normalizer.mean.numpy())"
      ],
      "metadata": {
        "colab": {
          "base_uri": "https://localhost:8080/"
        },
        "id": "gieV2YheOcig",
        "outputId": "550af44d-cf1a-4dba-8e88-bab3e54ab95c"
      },
      "execution_count": 141,
      "outputs": [
        {
          "output_type": "stream",
          "name": "stdout",
          "text": [
            "[[1.4250257e+09 1.4250263e+09 6.5813086e+02 2.2076929e+00 1.1801440e+01\n",
            "  1.2735010e+00 6.6031569e-01 1.4809657e+00]]\n"
          ]
        }
      ]
    },
    {
      "cell_type": "code",
      "source": [
        "first = np.array(train_features[:1])\n",
        "\n",
        "with np.printoptions(precision=2, suppress=True):\n",
        "  print('First example:', first)\n",
        "  print()\n",
        "  print('Normalized:', normalizer(first).numpy())"
      ],
      "metadata": {
        "colab": {
          "base_uri": "https://localhost:8080/"
        },
        "id": "T0z56qmqOf-z",
        "outputId": "230cdeaf-9989-4a48-acac-1013674a5d2c"
      },
      "execution_count": 142,
      "outputs": [
        {
          "output_type": "stream",
          "name": "stdout",
          "text": [
            "First example: [[1.42e+09 1.42e+09 1.56e+03 8.90e+00 2.19e+01 0.00e+00 0.00e+00 1.00e+00]]\n",
            "\n",
            "Normalized: [[-0.18 -0.18  1.18  1.31  0.94 -0.59 -0.4  -0.72]]\n"
          ]
        }
      ]
    },
    {
      "cell_type": "markdown",
      "source": [
        "## 予測モデルを作成し、トレーニングする"
      ],
      "metadata": {
        "id": "QOgpks6SCadM"
      }
    },
    {
      "cell_type": "markdown",
      "source": [
        "### 線形回帰"
      ],
      "metadata": {
        "id": "-a8-CTJ51_d-"
      }
    },
    {
      "cell_type": "markdown",
      "source": [
        "#### 一つの変数"
      ],
      "metadata": {
        "id": "UmsgOeB42H0L"
      }
    },
    {
      "cell_type": "markdown",
      "source": [
        "単一変数の線形回帰モデルには、2つのステップ\n",
        "- 入力 `trip_miles` を正規化\n",
        "- 線形変換 ( 𝑦=𝑚𝑥+𝑏 ) を適用して、`layers.Dense` を使用して1つの出力を生成"
      ],
      "metadata": {
        "id": "prEoeHA92XNu"
      }
    },
    {
      "cell_type": "code",
      "source": [
        "trip_miles = np.array(train_features['trip_miles'])\n",
        "# `trip_miles`レイヤーを作成\n",
        "trip_miles_normalizer = layers.Normalization(input_shape=[1,], axis=None)\n",
        "trip_miles_normalizer.adapt(trip_miles)"
      ],
      "metadata": {
        "id": "etOqrhK0P8XF"
      },
      "execution_count": 143,
      "outputs": []
    },
    {
      "cell_type": "code",
      "source": [
        "# `Sequential`モデルを作成\n",
        "trip_miles_model = tf.keras.Sequential([\n",
        "    trip_miles_normalizer,\n",
        "    layers.Dense(units=1)\n",
        "])\n",
        "\n",
        "trip_miles_model.summary()"
      ],
      "metadata": {
        "colab": {
          "base_uri": "https://localhost:8080/"
        },
        "id": "uk56nriPQZYt",
        "outputId": "0557c871-d5ca-4c40-cf93-549b7c7fff38"
      },
      "execution_count": 144,
      "outputs": [
        {
          "output_type": "stream",
          "name": "stdout",
          "text": [
            "Model: \"sequential_6\"\n",
            "_________________________________________________________________\n",
            " Layer (type)                Output Shape              Param #   \n",
            "=================================================================\n",
            " normalization_3 (Normalizat  (None, 1)                3         \n",
            " ion)                                                            \n",
            "                                                                 \n",
            " dense_14 (Dense)            (None, 1)                 2         \n",
            "                                                                 \n",
            "=================================================================\n",
            "Total params: 5\n",
            "Trainable params: 2\n",
            "Non-trainable params: 3\n",
            "_________________________________________________________________\n"
          ]
        }
      ]
    },
    {
      "cell_type": "code",
      "source": [
        "trip_miles_model.predict(trip_miles[:10])"
      ],
      "metadata": {
        "colab": {
          "base_uri": "https://localhost:8080/"
        },
        "id": "c-p9j43XQnd1",
        "outputId": "0ce66c50-7168-4591-ce47-fce0feacfe63"
      },
      "execution_count": 145,
      "outputs": [
        {
          "output_type": "stream",
          "name": "stdout",
          "text": [
            "1/1 [==============================] - 0s 122ms/step\n"
          ]
        },
        {
          "output_type": "execute_result",
          "data": {
            "text/plain": [
              "array([[-0.17622298],\n",
              "       [ 0.02126831],\n",
              "       [ 0.02390153],\n",
              "       [ 0.05813335],\n",
              "       [ 0.05813335],\n",
              "       [-0.2525863 ],\n",
              "       [ 0.04233405],\n",
              "       [-0.07616073],\n",
              "       [-0.00506387],\n",
              "       [ 0.02126831]], dtype=float32)"
            ]
          },
          "metadata": {},
          "execution_count": 145
        }
      ]
    },
    {
      "cell_type": "code",
      "source": [
        "trip_miles_model.compile(\n",
        "    optimizer=tf.optimizers.Adam(learning_rate=0.1),\n",
        "    loss='mean_absolute_error')"
      ],
      "metadata": {
        "id": "2RpNhfowE1HE"
      },
      "execution_count": 146,
      "outputs": []
    },
    {
      "cell_type": "markdown",
      "source": [
        "`Model.fit`でトレーニング"
      ],
      "metadata": {
        "id": "6_caLgrEFoii"
      }
    },
    {
      "cell_type": "code",
      "source": [
        "%%time\n",
        "history = trip_miles_model.fit(\n",
        "    train_features['trip_miles'],\n",
        "    train_labels,\n",
        "    epochs=100,\n",
        "    # Suppress logging.\n",
        "    verbose=0,\n",
        "    # Calculate validation results on 20% of the training data.\n",
        "    validation_split = 0.2)"
      ],
      "metadata": {
        "colab": {
          "base_uri": "https://localhost:8080/"
        },
        "id": "ijjzSY_fE64k",
        "outputId": "b2961cd2-174d-4f40-cf48-5151f9762a2d"
      },
      "execution_count": 147,
      "outputs": [
        {
          "output_type": "stream",
          "name": "stdout",
          "text": [
            "CPU times: user 16.9 s, sys: 554 ms, total: 17.4 s\n",
            "Wall time: 26 s\n"
          ]
        }
      ]
    },
    {
      "cell_type": "markdown",
      "source": [
        "`history`オブジェクトに保存された数値を使ってモデルのトレーニングの様子を可視化"
      ],
      "metadata": {
        "id": "zxX1kB1TF6Hi"
      }
    },
    {
      "cell_type": "code",
      "source": [
        "hist = pd.DataFrame(history.history)\n",
        "hist['epoch'] = history.epoch\n",
        "hist.tail()"
      ],
      "metadata": {
        "colab": {
          "base_uri": "https://localhost:8080/",
          "height": 206
        },
        "id": "L-veHybWFx96",
        "outputId": "342defa0-4393-4673-caca-ecef8656803a"
      },
      "execution_count": 148,
      "outputs": [
        {
          "output_type": "execute_result",
          "data": {
            "text/plain": [
              "        loss  val_loss  epoch\n",
              "95  5.115479  4.845876     95\n",
              "96  5.107720  4.838876     96\n",
              "97  5.103333  4.856648     97\n",
              "98  5.109174  4.851553     98\n",
              "99  5.103088  4.848031     99"
            ],
            "text/html": [
              "\n",
              "\n",
              "  <div id=\"df-93484a2e-ef9e-4f98-bded-eb401ecdda55\">\n",
              "    <div class=\"colab-df-container\">\n",
              "      <div>\n",
              "<style scoped>\n",
              "    .dataframe tbody tr th:only-of-type {\n",
              "        vertical-align: middle;\n",
              "    }\n",
              "\n",
              "    .dataframe tbody tr th {\n",
              "        vertical-align: top;\n",
              "    }\n",
              "\n",
              "    .dataframe thead th {\n",
              "        text-align: right;\n",
              "    }\n",
              "</style>\n",
              "<table border=\"1\" class=\"dataframe\">\n",
              "  <thead>\n",
              "    <tr style=\"text-align: right;\">\n",
              "      <th></th>\n",
              "      <th>loss</th>\n",
              "      <th>val_loss</th>\n",
              "      <th>epoch</th>\n",
              "    </tr>\n",
              "  </thead>\n",
              "  <tbody>\n",
              "    <tr>\n",
              "      <th>95</th>\n",
              "      <td>5.115479</td>\n",
              "      <td>4.845876</td>\n",
              "      <td>95</td>\n",
              "    </tr>\n",
              "    <tr>\n",
              "      <th>96</th>\n",
              "      <td>5.107720</td>\n",
              "      <td>4.838876</td>\n",
              "      <td>96</td>\n",
              "    </tr>\n",
              "    <tr>\n",
              "      <th>97</th>\n",
              "      <td>5.103333</td>\n",
              "      <td>4.856648</td>\n",
              "      <td>97</td>\n",
              "    </tr>\n",
              "    <tr>\n",
              "      <th>98</th>\n",
              "      <td>5.109174</td>\n",
              "      <td>4.851553</td>\n",
              "      <td>98</td>\n",
              "    </tr>\n",
              "    <tr>\n",
              "      <th>99</th>\n",
              "      <td>5.103088</td>\n",
              "      <td>4.848031</td>\n",
              "      <td>99</td>\n",
              "    </tr>\n",
              "  </tbody>\n",
              "</table>\n",
              "</div>\n",
              "      <button class=\"colab-df-convert\" onclick=\"convertToInteractive('df-93484a2e-ef9e-4f98-bded-eb401ecdda55')\"\n",
              "              title=\"Convert this dataframe to an interactive table.\"\n",
              "              style=\"display:none;\">\n",
              "\n",
              "  <svg xmlns=\"http://www.w3.org/2000/svg\" height=\"24px\"viewBox=\"0 0 24 24\"\n",
              "       width=\"24px\">\n",
              "    <path d=\"M0 0h24v24H0V0z\" fill=\"none\"/>\n",
              "    <path d=\"M18.56 5.44l.94 2.06.94-2.06 2.06-.94-2.06-.94-.94-2.06-.94 2.06-2.06.94zm-11 1L8.5 8.5l.94-2.06 2.06-.94-2.06-.94L8.5 2.5l-.94 2.06-2.06.94zm10 10l.94 2.06.94-2.06 2.06-.94-2.06-.94-.94-2.06-.94 2.06-2.06.94z\"/><path d=\"M17.41 7.96l-1.37-1.37c-.4-.4-.92-.59-1.43-.59-.52 0-1.04.2-1.43.59L10.3 9.45l-7.72 7.72c-.78.78-.78 2.05 0 2.83L4 21.41c.39.39.9.59 1.41.59.51 0 1.02-.2 1.41-.59l7.78-7.78 2.81-2.81c.8-.78.8-2.07 0-2.86zM5.41 20L4 18.59l7.72-7.72 1.47 1.35L5.41 20z\"/>\n",
              "  </svg>\n",
              "      </button>\n",
              "\n",
              "\n",
              "\n",
              "    <div id=\"df-a2483177-4d2f-47b3-bda2-eb98e2ea481a\">\n",
              "      <button class=\"colab-df-quickchart\" onclick=\"quickchart('df-a2483177-4d2f-47b3-bda2-eb98e2ea481a')\"\n",
              "              title=\"Suggest charts.\"\n",
              "              style=\"display:none;\">\n",
              "\n",
              "<svg xmlns=\"http://www.w3.org/2000/svg\" height=\"24px\"viewBox=\"0 0 24 24\"\n",
              "     width=\"24px\">\n",
              "    <g>\n",
              "        <path d=\"M19 3H5c-1.1 0-2 .9-2 2v14c0 1.1.9 2 2 2h14c1.1 0 2-.9 2-2V5c0-1.1-.9-2-2-2zM9 17H7v-7h2v7zm4 0h-2V7h2v10zm4 0h-2v-4h2v4z\"/>\n",
              "    </g>\n",
              "</svg>\n",
              "      </button>\n",
              "    </div>\n",
              "\n",
              "<style>\n",
              "  .colab-df-quickchart {\n",
              "    background-color: #E8F0FE;\n",
              "    border: none;\n",
              "    border-radius: 50%;\n",
              "    cursor: pointer;\n",
              "    display: none;\n",
              "    fill: #1967D2;\n",
              "    height: 32px;\n",
              "    padding: 0 0 0 0;\n",
              "    width: 32px;\n",
              "  }\n",
              "\n",
              "  .colab-df-quickchart:hover {\n",
              "    background-color: #E2EBFA;\n",
              "    box-shadow: 0px 1px 2px rgba(60, 64, 67, 0.3), 0px 1px 3px 1px rgba(60, 64, 67, 0.15);\n",
              "    fill: #174EA6;\n",
              "  }\n",
              "\n",
              "  [theme=dark] .colab-df-quickchart {\n",
              "    background-color: #3B4455;\n",
              "    fill: #D2E3FC;\n",
              "  }\n",
              "\n",
              "  [theme=dark] .colab-df-quickchart:hover {\n",
              "    background-color: #434B5C;\n",
              "    box-shadow: 0px 1px 3px 1px rgba(0, 0, 0, 0.15);\n",
              "    filter: drop-shadow(0px 1px 2px rgba(0, 0, 0, 0.3));\n",
              "    fill: #FFFFFF;\n",
              "  }\n",
              "</style>\n",
              "\n",
              "    <script>\n",
              "      async function quickchart(key) {\n",
              "        const containerElement = document.querySelector('#' + key);\n",
              "        const charts = await google.colab.kernel.invokeFunction(\n",
              "            'suggestCharts', [key], {});\n",
              "      }\n",
              "    </script>\n",
              "\n",
              "      <script>\n",
              "\n",
              "function displayQuickchartButton(domScope) {\n",
              "  let quickchartButtonEl =\n",
              "    domScope.querySelector('#df-a2483177-4d2f-47b3-bda2-eb98e2ea481a button.colab-df-quickchart');\n",
              "  quickchartButtonEl.style.display =\n",
              "    google.colab.kernel.accessAllowed ? 'block' : 'none';\n",
              "}\n",
              "\n",
              "        displayQuickchartButton(document);\n",
              "      </script>\n",
              "      <style>\n",
              "    .colab-df-container {\n",
              "      display:flex;\n",
              "      flex-wrap:wrap;\n",
              "      gap: 12px;\n",
              "    }\n",
              "\n",
              "    .colab-df-convert {\n",
              "      background-color: #E8F0FE;\n",
              "      border: none;\n",
              "      border-radius: 50%;\n",
              "      cursor: pointer;\n",
              "      display: none;\n",
              "      fill: #1967D2;\n",
              "      height: 32px;\n",
              "      padding: 0 0 0 0;\n",
              "      width: 32px;\n",
              "    }\n",
              "\n",
              "    .colab-df-convert:hover {\n",
              "      background-color: #E2EBFA;\n",
              "      box-shadow: 0px 1px 2px rgba(60, 64, 67, 0.3), 0px 1px 3px 1px rgba(60, 64, 67, 0.15);\n",
              "      fill: #174EA6;\n",
              "    }\n",
              "\n",
              "    [theme=dark] .colab-df-convert {\n",
              "      background-color: #3B4455;\n",
              "      fill: #D2E3FC;\n",
              "    }\n",
              "\n",
              "    [theme=dark] .colab-df-convert:hover {\n",
              "      background-color: #434B5C;\n",
              "      box-shadow: 0px 1px 3px 1px rgba(0, 0, 0, 0.15);\n",
              "      filter: drop-shadow(0px 1px 2px rgba(0, 0, 0, 0.3));\n",
              "      fill: #FFFFFF;\n",
              "    }\n",
              "  </style>\n",
              "\n",
              "      <script>\n",
              "        const buttonEl =\n",
              "          document.querySelector('#df-93484a2e-ef9e-4f98-bded-eb401ecdda55 button.colab-df-convert');\n",
              "        buttonEl.style.display =\n",
              "          google.colab.kernel.accessAllowed ? 'block' : 'none';\n",
              "\n",
              "        async function convertToInteractive(key) {\n",
              "          const element = document.querySelector('#df-93484a2e-ef9e-4f98-bded-eb401ecdda55');\n",
              "          const dataTable =\n",
              "            await google.colab.kernel.invokeFunction('convertToInteractive',\n",
              "                                                     [key], {});\n",
              "          if (!dataTable) return;\n",
              "\n",
              "          const docLinkHtml = 'Like what you see? Visit the ' +\n",
              "            '<a target=\"_blank\" href=https://colab.research.google.com/notebooks/data_table.ipynb>data table notebook</a>'\n",
              "            + ' to learn more about interactive tables.';\n",
              "          element.innerHTML = '';\n",
              "          dataTable['output_type'] = 'display_data';\n",
              "          await google.colab.output.renderOutput(dataTable, element);\n",
              "          const docLink = document.createElement('div');\n",
              "          docLink.innerHTML = docLinkHtml;\n",
              "          element.appendChild(docLink);\n",
              "        }\n",
              "      </script>\n",
              "    </div>\n",
              "  </div>\n"
            ]
          },
          "metadata": {},
          "execution_count": 148
        }
      ]
    },
    {
      "cell_type": "code",
      "source": [
        "import matplotlib.pyplot as plt\n",
        "def plot_loss(history):\n",
        "  plt.plot(history.history['loss'], label='Train loss')\n",
        "  plt.plot(history.history['val_loss'], label='val_loss')\n",
        "  plt.ylim([0, 10])\n",
        "  plt.xlabel('Epoch')\n",
        "  plt.ylabel('loss')\n",
        "  plt.legend()\n",
        "  plt.grid(True)"
      ],
      "metadata": {
        "id": "IjdlDE2GGEWv"
      },
      "execution_count": 149,
      "outputs": []
    },
    {
      "cell_type": "code",
      "source": [
        "plot_loss(history)"
      ],
      "metadata": {
        "colab": {
          "base_uri": "https://localhost:8080/",
          "height": 455
        },
        "id": "jFz1nttAGYpt",
        "outputId": "ce72b386-ee15-4731-85ef-83ef8e073120"
      },
      "execution_count": 150,
      "outputs": [
        {
          "output_type": "display_data",
          "data": {
            "text/plain": [
              "<Figure size 640x480 with 1 Axes>"
            ],
            "image/png": "[encoded data removed]"
          },
          "metadata": {}
        }
      ]
    },
    {
      "cell_type": "code",
      "source": [
        "test_results = {}\n",
        "\n",
        "test_results['trip_miles_model'] = trip_miles_model.evaluate(\n",
        "    test_features['trip_miles'],\n",
        "    test_labels, verbose=0)"
      ],
      "metadata": {
        "id": "_JtLfsYFGtlf"
      },
      "execution_count": 151,
      "outputs": []
    },
    {
      "cell_type": "code",
      "source": [
        "x = tf.linspace(0.0, 60, 61)\n",
        "y = trip_miles_model.predict(x)"
      ],
      "metadata": {
        "colab": {
          "base_uri": "https://localhost:8080/"
        },
        "id": "Asz93Z__G-3Y",
        "outputId": "f81f7801-cbd9-458f-d168-b9f54e2be182"
      },
      "execution_count": 152,
      "outputs": [
        {
          "output_type": "stream",
          "name": "stdout",
          "text": [
            "2/2 [==============================] - 0s 8ms/step\n"
          ]
        }
      ]
    },
    {
      "cell_type": "markdown",
      "source": [
        "`tf.linspace`: 指定された軸に沿った間隔で値を生成\n",
        "```\n",
        "tf.linspace(\n",
        "    start, stop, num, name=None, axis=0\n",
        ")\n",
        "```"
      ],
      "metadata": {
        "id": "heR6djbvHGUU"
      }
    },
    {
      "cell_type": "code",
      "source": [
        "def plot_trip_miles(x, y):\n",
        "  plt.scatter(train_features['trip_miles'], train_labels, label='Data')\n",
        "  plt.plot(x, y, color='k', label='Predictions')\n",
        "  plt.xlabel('trip_miles')\n",
        "  plt.ylabel('trip_total')\n",
        "  plt.legend()"
      ],
      "metadata": {
        "id": "49DJmBXdHG66"
      },
      "execution_count": 153,
      "outputs": []
    },
    {
      "cell_type": "code",
      "source": [
        "plot_trip_miles(x, y)"
      ],
      "metadata": {
        "colab": {
          "base_uri": "https://localhost:8080/",
          "height": 450
        },
        "id": "xTFpVM7aHdV5",
        "outputId": "87d0c965-00ec-4f66-8d31-fb084631860a"
      },
      "execution_count": 154,
      "outputs": [
        {
          "output_type": "display_data",
          "data": {
            "text/plain": [
              "<Figure size 640x480 with 1 Axes>"
            ],
            "image/png": "[encoded data removed]"
          },
          "metadata": {}
        }
      ]
    },
    {
      "cell_type": "markdown",
      "source": [
        "#### 複数の入力"
      ],
      "metadata": {
        "id": "wK4RWJnVNJ3x"
      }
    },
    {
      "cell_type": "code",
      "source": [
        "linear_model = tf.keras.Sequential([\n",
        "    normalizer,\n",
        "    layers.Dense(units=1)\n",
        "])"
      ],
      "metadata": {
        "id": "Jb5OxFmNNM48"
      },
      "execution_count": 155,
      "outputs": []
    },
    {
      "cell_type": "code",
      "source": [
        "linear_model.predict(train_features[:10])"
      ],
      "metadata": {
        "colab": {
          "base_uri": "https://localhost:8080/"
        },
        "id": "rP8utusvNU5y",
        "outputId": "39e52958-b7a0-4d32-e3f7-c460f2e5449b"
      },
      "execution_count": 156,
      "outputs": [
        {
          "output_type": "stream",
          "name": "stdout",
          "text": [
            "1/1 [==============================] - 0s 98ms/step\n"
          ]
        },
        {
          "output_type": "execute_result",
          "data": {
            "text/plain": [
              "array([[-0.29269758],\n",
              "       [ 1.0622696 ],\n",
              "       [ 1.0604103 ],\n",
              "       [ 0.8500762 ],\n",
              "       [-0.5757467 ],\n",
              "       [ 0.08212826],\n",
              "       [ 1.1749268 ],\n",
              "       [ 0.67708015],\n",
              "       [ 0.46346396],\n",
              "       [ 1.1998656 ]], dtype=float32)"
            ]
          },
          "metadata": {},
          "execution_count": 156
        }
      ]
    },
    {
      "cell_type": "code",
      "source": [
        "linear_model.layers[1].kernel"
      ],
      "metadata": {
        "colab": {
          "base_uri": "https://localhost:8080/"
        },
        "id": "lyPw3Q6UNbBy",
        "outputId": "51a5d90e-ffa2-4f16-9d06-e8ea387cf368"
      },
      "execution_count": 157,
      "outputs": [
        {
          "output_type": "execute_result",
          "data": {
            "text/plain": [
              "<tf.Variable 'dense_15/kernel:0' shape=(8, 1) dtype=float32, numpy=\n",
              "array([[-0.54926574],\n",
              "       [-0.04383224],\n",
              "       [-0.7197542 ],\n",
              "       [ 0.39157772],\n",
              "       [-0.6147937 ],\n",
              "       [-0.11338025],\n",
              "       [ 0.03628689],\n",
              "       [-0.63998127]], dtype=float32)>"
            ]
          },
          "metadata": {},
          "execution_count": 157
        }
      ]
    },
    {
      "cell_type": "code",
      "source": [
        "linear_model.compile(\n",
        "    optimizer=tf.optimizers.Adam(learning_rate=0.1),\n",
        "    loss='mean_absolute_error')"
      ],
      "metadata": {
        "id": "aObv_zyANd_-"
      },
      "execution_count": 158,
      "outputs": []
    },
    {
      "cell_type": "code",
      "source": [
        "%%time\n",
        "history = linear_model.fit(\n",
        "    train_features,\n",
        "    train_labels,\n",
        "    epochs=100,\n",
        "    # Suppress logging.\n",
        "    verbose=0,\n",
        "    # Calculate validation results on 20% of the training data.\n",
        "    validation_split = 0.2)"
      ],
      "metadata": {
        "colab": {
          "base_uri": "https://localhost:8080/"
        },
        "id": "E8C7cPaQNf7t",
        "outputId": "f8ca60b9-9837-4ee6-94f9-f9c2cb5e1a5b"
      },
      "execution_count": 159,
      "outputs": [
        {
          "output_type": "stream",
          "name": "stdout",
          "text": [
            "CPU times: user 14.4 s, sys: 585 ms, total: 15 s\n",
            "Wall time: 19.1 s\n"
          ]
        }
      ]
    },
    {
      "cell_type": "code",
      "source": [
        "plot_loss(history)"
      ],
      "metadata": {
        "colab": {
          "base_uri": "https://localhost:8080/",
          "height": 0
        },
        "id": "iZIiTKkxNnhg",
        "outputId": "b239251c-e498-4aab-906c-39e9070b5b83"
      },
      "execution_count": 160,
      "outputs": [
        {
          "output_type": "display_data",
          "data": {
            "text/plain": [
              "<Figure size 640x480 with 1 Axes>"
            ],
            "image/png": "[encoded data removed]"
          },
          "metadata": {}
        }
      ]
    },
    {
      "cell_type": "code",
      "source": [
        "test_results['linear_model'] = linear_model.evaluate(\n",
        "    test_features, test_labels, verbose=0)"
      ],
      "metadata": {
        "id": "KFOLhmlJNsDa"
      },
      "execution_count": 161,
      "outputs": []
    },
    {
      "cell_type": "markdown",
      "source": [
        "### DNN回帰"
      ],
      "metadata": {
        "id": "8W1WCIg-N4b0"
      }
    },
    {
      "cell_type": "code",
      "source": [
        "def build_and_compile_model(norm):\n",
        "  model = keras.Sequential([\n",
        "      norm,\n",
        "      layers.Dense(64, activation='relu'),\n",
        "      layers.Dense(64, activation='relu'),\n",
        "      layers.Dense(1)\n",
        "  ])\n",
        "  # コンパイル\n",
        "  # 損失関数はMSEと指定\n",
        "  model.compile(loss='mean_squared_error',\n",
        "                optimizer=tf.keras.optimizers.Adam(0.001))\n",
        "  return model"
      ],
      "metadata": {
        "id": "F4JPAy2rOAKx"
      },
      "execution_count": 162,
      "outputs": []
    },
    {
      "cell_type": "markdown",
      "source": [
        "#### DNNと単一入力を使用した回帰"
      ],
      "metadata": {
        "id": "RMpvnJJxPJ_r"
      }
    },
    {
      "cell_type": "code",
      "source": [
        "dnn_trip_miles_model = build_and_compile_model(trip_miles_normalizer)"
      ],
      "metadata": {
        "id": "6pe73cI8Ompt"
      },
      "execution_count": 163,
      "outputs": []
    },
    {
      "cell_type": "markdown",
      "source": [
        "モデルを視覚化"
      ],
      "metadata": {
        "id": "HAE5bdIZcbyX"
      }
    },
    {
      "cell_type": "code",
      "source": [
        "from tensorflow.keras.utils import plot_model\n",
        "plot_model(dnn_trip_miles_model,show_shapes=True)"
      ],
      "metadata": {
        "colab": {
          "base_uri": "https://localhost:8080/",
          "height": 533
        },
        "id": "w7-40nbgb1NE",
        "outputId": "92ff9621-43de-4ba1-92f0-6e6c2e965ba8"
      },
      "execution_count": 164,
      "outputs": [
        {
          "output_type": "execute_result",
          "data": {
            "image/png": "[encoded data removed]",
            "text/plain": [
              "<IPython.core.display.Image object>"
            ]
          },
          "metadata": {},
          "execution_count": 164
        }
      ]
    },
    {
      "cell_type": "code",
      "source": [
        "dnn_trip_miles_model.summary()"
      ],
      "metadata": {
        "colab": {
          "base_uri": "https://localhost:8080/"
        },
        "id": "q2Y8YpqxOyLQ",
        "outputId": "dcbfdafa-69a7-4b51-9a9a-62e1360d41c6"
      },
      "execution_count": 165,
      "outputs": [
        {
          "output_type": "stream",
          "name": "stdout",
          "text": [
            "Model: \"sequential_8\"\n",
            "_________________________________________________________________\n",
            " Layer (type)                Output Shape              Param #   \n",
            "=================================================================\n",
            " normalization_3 (Normalizat  (None, 1)                3         \n",
            " ion)                                                            \n",
            "                                                                 \n",
            " dense_16 (Dense)            (None, 64)                128       \n",
            "                                                                 \n",
            " dense_17 (Dense)            (None, 64)                4160      \n",
            "                                                                 \n",
            " dense_18 (Dense)            (None, 1)                 65        \n",
            "                                                                 \n",
            "=================================================================\n",
            "Total params: 4,356\n",
            "Trainable params: 4,353\n",
            "Non-trainable params: 3\n",
            "_________________________________________________________________\n"
          ]
        }
      ]
    },
    {
      "cell_type": "code",
      "source": [
        "%%time\n",
        "history = dnn_trip_miles_model.fit(\n",
        "    train_features['trip_miles'],\n",
        "    train_labels,\n",
        "    validation_split=0.2,\n",
        "    verbose=0, epochs=100)"
      ],
      "metadata": {
        "colab": {
          "base_uri": "https://localhost:8080/"
        },
        "id": "Hwrvv_9bPSTv",
        "outputId": "3bf9e13a-ce90-445c-8de0-944a39296dc7"
      },
      "execution_count": 166,
      "outputs": [
        {
          "output_type": "stream",
          "name": "stdout",
          "text": [
            "CPU times: user 16.5 s, sys: 622 ms, total: 17.1 s\n",
            "Wall time: 16.9 s\n"
          ]
        }
      ]
    },
    {
      "cell_type": "code",
      "source": [
        "plot_loss(history)"
      ],
      "metadata": {
        "colab": {
          "base_uri": "https://localhost:8080/",
          "height": 455
        },
        "id": "helvI5_3R8Ue",
        "outputId": "7bbfd092-448b-4a39-d49b-d1d158e4cffd"
      },
      "execution_count": 167,
      "outputs": [
        {
          "output_type": "display_data",
          "data": {
            "text/plain": [
              "<Figure size 640x480 with 1 Axes>"
            ],
            "image/png": "[encoded data removed]"
          },
          "metadata": {}
        }
      ]
    },
    {
      "cell_type": "code",
      "source": [
        "x = tf.linspace(0.0, 40, 41)\n",
        "y = dnn_trip_miles_model.predict(x)"
      ],
      "metadata": {
        "colab": {
          "base_uri": "https://localhost:8080/"
        },
        "id": "lOMCVPSVSeIk",
        "outputId": "c450f29e-30ef-4871-9f31-900e220be6b6"
      },
      "execution_count": 168,
      "outputs": [
        {
          "output_type": "stream",
          "name": "stderr",
          "text": [
            "WARNING:tensorflow:5 out of the last 24 calls to <function Model.make_predict_function.<locals>.predict_function at 0x7aebf5dfa0e0> triggered tf.function retracing. Tracing is expensive and the excessive number of tracings could be due to (1) creating @tf.function repeatedly in a loop, (2) passing tensors with different shapes, (3) passing Python objects instead of tensors. For (1), please define your @tf.function outside of the loop. For (2), @tf.function has reduce_retracing=True option that can avoid unnecessary retracing. For (3), please refer to https://www.tensorflow.org/guide/function#controlling_retracing and https://www.tensorflow.org/api_docs/python/tf/function for  more details.\n"
          ]
        },
        {
          "output_type": "stream",
          "name": "stdout",
          "text": [
            "2/2 [==============================] - 0s 6ms/step\n"
          ]
        }
      ]
    },
    {
      "cell_type": "code",
      "source": [
        "plot_trip_miles(x, y)"
      ],
      "metadata": {
        "colab": {
          "base_uri": "https://localhost:8080/",
          "height": 450
        },
        "id": "j_UUnH-ISisk",
        "outputId": "cc8e7388-b1c2-4aaf-c381-1e1b7969494b"
      },
      "execution_count": 169,
      "outputs": [
        {
          "output_type": "display_data",
          "data": {
            "text/plain": [
              "<Figure size 640x480 with 1 Axes>"
            ],
            "image/png": "[encoded data removed]"
          },
          "metadata": {}
        }
      ]
    },
    {
      "cell_type": "code",
      "source": [
        "test_results['dnn_trip_miles_model'] = dnn_trip_miles_model.evaluate(\n",
        "    test_features['trip_miles'], test_labels,\n",
        "    verbose=0)"
      ],
      "metadata": {
        "id": "IOHKveP2SmJz"
      },
      "execution_count": 170,
      "outputs": []
    },
    {
      "cell_type": "markdown",
      "source": [
        "### 完全モデル"
      ],
      "metadata": {
        "id": "UlOLGaOdTbT-"
      }
    },
    {
      "cell_type": "code",
      "source": [
        "dnn_model = build_and_compile_model(normalizer)\n",
        "dnn_model.summary()"
      ],
      "metadata": {
        "colab": {
          "base_uri": "https://localhost:8080/"
        },
        "id": "f39qwqKwTeUc",
        "outputId": "b250eeda-0d5a-40f9-b590-43c7fa88944a"
      },
      "execution_count": 171,
      "outputs": [
        {
          "output_type": "stream",
          "name": "stdout",
          "text": [
            "Model: \"sequential_9\"\n",
            "_________________________________________________________________\n",
            " Layer (type)                Output Shape              Param #   \n",
            "=================================================================\n",
            " normalization_2 (Normalizat  (None, 8)                17        \n",
            " ion)                                                            \n",
            "                                                                 \n",
            " dense_19 (Dense)            (None, 64)                576       \n",
            "                                                                 \n",
            " dense_20 (Dense)            (None, 64)                4160      \n",
            "                                                                 \n",
            " dense_21 (Dense)            (None, 1)                 65        \n",
            "                                                                 \n",
            "=================================================================\n",
            "Total params: 4,818\n",
            "Trainable params: 4,801\n",
            "Non-trainable params: 17\n",
            "_________________________________________________________________\n"
          ]
        }
      ]
    },
    {
      "cell_type": "markdown",
      "source": [
        "モデルを視覚化"
      ],
      "metadata": {
        "id": "8u9SYzKHc78j"
      }
    },
    {
      "cell_type": "code",
      "source": [
        "plot_model(dnn_model,show_shapes=True)"
      ],
      "metadata": {
        "colab": {
          "base_uri": "https://localhost:8080/",
          "height": 533
        },
        "id": "SwF3gW9ec3VT",
        "outputId": "309a697e-3ff3-4708-b742-a0f1af94070b"
      },
      "execution_count": 172,
      "outputs": [
        {
          "output_type": "execute_result",
          "data": {
            "image/png": "[encoded data removed]",
            "text/plain": [
              "<IPython.core.display.Image object>"
            ]
          },
          "metadata": {},
          "execution_count": 172
        }
      ]
    },
    {
      "cell_type": "markdown",
      "source": [
        "学習の実行"
      ],
      "metadata": {
        "id": "B6hPJT36dK4m"
      }
    },
    {
      "cell_type": "code",
      "source": [
        "%%time\n",
        "history = dnn_model.fit(\n",
        "    train_features,\n",
        "    train_labels,\n",
        "    validation_split=0.2,\n",
        "    verbose=0, epochs=100)"
      ],
      "metadata": {
        "colab": {
          "base_uri": "https://localhost:8080/"
        },
        "id": "VeUb0iBRTi8c",
        "outputId": "9acd659a-4911-49b4-e032-28e40303e11d"
      },
      "execution_count": 173,
      "outputs": [
        {
          "output_type": "stream",
          "name": "stdout",
          "text": [
            "CPU times: user 19 s, sys: 649 ms, total: 19.7 s\n",
            "Wall time: 21.6 s\n"
          ]
        }
      ]
    },
    {
      "cell_type": "code",
      "source": [
        "plot_loss(history)"
      ],
      "metadata": {
        "colab": {
          "base_uri": "https://localhost:8080/",
          "height": 455
        },
        "id": "9zjvDUmETpcs",
        "outputId": "20d75f14-242e-4564-bbc7-d4c9ce70dcf3"
      },
      "execution_count": 174,
      "outputs": [
        {
          "output_type": "display_data",
          "data": {
            "text/plain": [
              "<Figure size 640x480 with 1 Axes>"
            ],
            "image/png": "[encoded data removed]"
          },
          "metadata": {}
        }
      ]
    },
    {
      "cell_type": "code",
      "source": [
        "test_results['dnn_model'] = dnn_model.evaluate(test_features, test_labels, verbose=0)"
      ],
      "metadata": {
        "id": "D3c9_sc9Twf9"
      },
      "execution_count": 175,
      "outputs": []
    },
    {
      "cell_type": "markdown",
      "source": [
        "## モデルを評価する"
      ],
      "metadata": {
        "id": "yQeDgvKe6p0N"
      }
    },
    {
      "cell_type": "code",
      "source": [
        "pd.DataFrame(test_results, index=['Mean Squared Error [trip_total]']).T"
      ],
      "metadata": {
        "colab": {
          "base_uri": "https://localhost:8080/",
          "height": 175
        },
        "id": "jCmKSKmrTze8",
        "outputId": "8db83ed3-f67f-4255-a8e2-40f6f1977b93"
      },
      "execution_count": 176,
      "outputs": [
        {
          "output_type": "execute_result",
          "data": {
            "text/plain": [
              "                      Mean Squared Error [trip_total]\n",
              "trip_miles_model                             4.952704\n",
              "linear_model                                 0.078333\n",
              "dnn_trip_miles_model                        88.358894\n",
              "dnn_model                                    0.080342"
            ],
            "text/html": [
              "\n",
              "\n",
              "  <div id=\"df-2d056d87-1129-4f5f-a6bd-6d44b4f54349\">\n",
              "    <div class=\"colab-df-container\">\n",
              "      <div>\n",
              "<style scoped>\n",
              "    .dataframe tbody tr th:only-of-type {\n",
              "        vertical-align: middle;\n",
              "    }\n",
              "\n",
              "    .dataframe tbody tr th {\n",
              "        vertical-align: top;\n",
              "    }\n",
              "\n",
              "    .dataframe thead th {\n",
              "        text-align: right;\n",
              "    }\n",
              "</style>\n",
              "<table border=\"1\" class=\"dataframe\">\n",
              "  <thead>\n",
              "    <tr style=\"text-align: right;\">\n",
              "      <th></th>\n",
              "      <th>Mean Squared Error [trip_total]</th>\n",
              "    </tr>\n",
              "  </thead>\n",
              "  <tbody>\n",
              "    <tr>\n",
              "      <th>trip_miles_model</th>\n",
              "      <td>4.952704</td>\n",
              "    </tr>\n",
              "    <tr>\n",
              "      <th>linear_model</th>\n",
              "      <td>0.078333</td>\n",
              "    </tr>\n",
              "    <tr>\n",
              "      <th>dnn_trip_miles_model</th>\n",
              "      <td>88.358894</td>\n",
              "    </tr>\n",
              "    <tr>\n",
              "      <th>dnn_model</th>\n",
              "      <td>0.080342</td>\n",
              "    </tr>\n",
              "  </tbody>\n",
              "</table>\n",
              "</div>\n",
              "      <button class=\"colab-df-convert\" onclick=\"convertToInteractive('df-2d056d87-1129-4f5f-a6bd-6d44b4f54349')\"\n",
              "              title=\"Convert this dataframe to an interactive table.\"\n",
              "              style=\"display:none;\">\n",
              "\n",
              "  <svg xmlns=\"http://www.w3.org/2000/svg\" height=\"24px\"viewBox=\"0 0 24 24\"\n",
              "       width=\"24px\">\n",
              "    <path d=\"M0 0h24v24H0V0z\" fill=\"none\"/>\n",
              "    <path d=\"M18.56 5.44l.94 2.06.94-2.06 2.06-.94-2.06-.94-.94-2.06-.94 2.06-2.06.94zm-11 1L8.5 8.5l.94-2.06 2.06-.94-2.06-.94L8.5 2.5l-.94 2.06-2.06.94zm10 10l.94 2.06.94-2.06 2.06-.94-2.06-.94-.94-2.06-.94 2.06-2.06.94z\"/><path d=\"M17.41 7.96l-1.37-1.37c-.4-.4-.92-.59-1.43-.59-.52 0-1.04.2-1.43.59L10.3 9.45l-7.72 7.72c-.78.78-.78 2.05 0 2.83L4 21.41c.39.39.9.59 1.41.59.51 0 1.02-.2 1.41-.59l7.78-7.78 2.81-2.81c.8-.78.8-2.07 0-2.86zM5.41 20L4 18.59l7.72-7.72 1.47 1.35L5.41 20z\"/>\n",
              "  </svg>\n",
              "      </button>\n",
              "\n",
              "\n",
              "\n",
              "    <div id=\"df-1d244275-67f8-4aef-a3f7-918d582724ca\">\n",
              "      <button class=\"colab-df-quickchart\" onclick=\"quickchart('df-1d244275-67f8-4aef-a3f7-918d582724ca')\"\n",
              "              title=\"Suggest charts.\"\n",
              "              style=\"display:none;\">\n",
              "\n",
              "<svg xmlns=\"http://www.w3.org/2000/svg\" height=\"24px\"viewBox=\"0 0 24 24\"\n",
              "     width=\"24px\">\n",
              "    <g>\n",
              "        <path d=\"M19 3H5c-1.1 0-2 .9-2 2v14c0 1.1.9 2 2 2h14c1.1 0 2-.9 2-2V5c0-1.1-.9-2-2-2zM9 17H7v-7h2v7zm4 0h-2V7h2v10zm4 0h-2v-4h2v4z\"/>\n",
              "    </g>\n",
              "</svg>\n",
              "      </button>\n",
              "    </div>\n",
              "\n",
              "<style>\n",
              "  .colab-df-quickchart {\n",
              "    background-color: #E8F0FE;\n",
              "    border: none;\n",
              "    border-radius: 50%;\n",
              "    cursor: pointer;\n",
              "    display: none;\n",
              "    fill: #1967D2;\n",
              "    height: 32px;\n",
              "    padding: 0 0 0 0;\n",
              "    width: 32px;\n",
              "  }\n",
              "\n",
              "  .colab-df-quickchart:hover {\n",
              "    background-color: #E2EBFA;\n",
              "    box-shadow: 0px 1px 2px rgba(60, 64, 67, 0.3), 0px 1px 3px 1px rgba(60, 64, 67, 0.15);\n",
              "    fill: #174EA6;\n",
              "  }\n",
              "\n",
              "  [theme=dark] .colab-df-quickchart {\n",
              "    background-color: #3B4455;\n",
              "    fill: #D2E3FC;\n",
              "  }\n",
              "\n",
              "  [theme=dark] .colab-df-quickchart:hover {\n",
              "    background-color: #434B5C;\n",
              "    box-shadow: 0px 1px 3px 1px rgba(0, 0, 0, 0.15);\n",
              "    filter: drop-shadow(0px 1px 2px rgba(0, 0, 0, 0.3));\n",
              "    fill: #FFFFFF;\n",
              "  }\n",
              "</style>\n",
              "\n",
              "    <script>\n",
              "      async function quickchart(key) {\n",
              "        const containerElement = document.querySelector('#' + key);\n",
              "        const charts = await google.colab.kernel.invokeFunction(\n",
              "            'suggestCharts', [key], {});\n",
              "      }\n",
              "    </script>\n",
              "\n",
              "      <script>\n",
              "\n",
              "function displayQuickchartButton(domScope) {\n",
              "  let quickchartButtonEl =\n",
              "    domScope.querySelector('#df-1d244275-67f8-4aef-a3f7-918d582724ca button.colab-df-quickchart');\n",
              "  quickchartButtonEl.style.display =\n",
              "    google.colab.kernel.accessAllowed ? 'block' : 'none';\n",
              "}\n",
              "\n",
              "        displayQuickchartButton(document);\n",
              "      </script>\n",
              "      <style>\n",
              "    .colab-df-container {\n",
              "      display:flex;\n",
              "      flex-wrap:wrap;\n",
              "      gap: 12px;\n",
              "    }\n",
              "\n",
              "    .colab-df-convert {\n",
              "      background-color: #E8F0FE;\n",
              "      border: none;\n",
              "      border-radius: 50%;\n",
              "      cursor: pointer;\n",
              "      display: none;\n",
              "      fill: #1967D2;\n",
              "      height: 32px;\n",
              "      padding: 0 0 0 0;\n",
              "      width: 32px;\n",
              "    }\n",
              "\n",
              "    .colab-df-convert:hover {\n",
              "      background-color: #E2EBFA;\n",
              "      box-shadow: 0px 1px 2px rgba(60, 64, 67, 0.3), 0px 1px 3px 1px rgba(60, 64, 67, 0.15);\n",
              "      fill: #174EA6;\n",
              "    }\n",
              "\n",
              "    [theme=dark] .colab-df-convert {\n",
              "      background-color: #3B4455;\n",
              "      fill: #D2E3FC;\n",
              "    }\n",
              "\n",
              "    [theme=dark] .colab-df-convert:hover {\n",
              "      background-color: #434B5C;\n",
              "      box-shadow: 0px 1px 3px 1px rgba(0, 0, 0, 0.15);\n",
              "      filter: drop-shadow(0px 1px 2px rgba(0, 0, 0, 0.3));\n",
              "      fill: #FFFFFF;\n",
              "    }\n",
              "  </style>\n",
              "\n",
              "      <script>\n",
              "        const buttonEl =\n",
              "          document.querySelector('#df-2d056d87-1129-4f5f-a6bd-6d44b4f54349 button.colab-df-convert');\n",
              "        buttonEl.style.display =\n",
              "          google.colab.kernel.accessAllowed ? 'block' : 'none';\n",
              "\n",
              "        async function convertToInteractive(key) {\n",
              "          const element = document.querySelector('#df-2d056d87-1129-4f5f-a6bd-6d44b4f54349');\n",
              "          const dataTable =\n",
              "            await google.colab.kernel.invokeFunction('convertToInteractive',\n",
              "                                                     [key], {});\n",
              "          if (!dataTable) return;\n",
              "\n",
              "          const docLinkHtml = 'Like what you see? Visit the ' +\n",
              "            '<a target=\"_blank\" href=https://colab.research.google.com/notebooks/data_table.ipynb>data table notebook</a>'\n",
              "            + ' to learn more about interactive tables.';\n",
              "          element.innerHTML = '';\n",
              "          dataTable['output_type'] = 'display_data';\n",
              "          await google.colab.output.renderOutput(dataTable, element);\n",
              "          const docLink = document.createElement('div');\n",
              "          docLink.innerHTML = docLinkHtml;\n",
              "          element.appendChild(docLink);\n",
              "        }\n",
              "      </script>\n",
              "    </div>\n",
              "  </div>\n"
            ]
          },
          "metadata": {},
          "execution_count": 176
        }
      ]
    },
    {
      "cell_type": "code",
      "source": [
        "test_predictions = dnn_model.predict(test_features).flatten()\n",
        "\n",
        "a = plt.axes(aspect='equal')\n",
        "plt.scatter(test_labels, test_predictions)\n",
        "plt.xlabel('True Values [trip_total]')\n",
        "plt.ylabel('Predictions [trip_total]')\n",
        "lims = [0, 60]\n",
        "plt.xlim(lims)\n",
        "plt.ylim(lims)\n",
        "_ = plt.plot(lims, lims)"
      ],
      "metadata": {
        "colab": {
          "base_uri": "https://localhost:8080/",
          "height": 511
        },
        "id": "8D5JbIXlUFvz",
        "outputId": "2895554b-ba93-4dd5-fe93-855b4086bd07"
      },
      "execution_count": 177,
      "outputs": [
        {
          "output_type": "stream",
          "name": "stderr",
          "text": [
            "WARNING:tensorflow:6 out of the last 26 calls to <function Model.make_predict_function.<locals>.predict_function at 0x7aebf5c34670> triggered tf.function retracing. Tracing is expensive and the excessive number of tracings could be due to (1) creating @tf.function repeatedly in a loop, (2) passing tensors with different shapes, (3) passing Python objects instead of tensors. For (1), please define your @tf.function outside of the loop. For (2), @tf.function has reduce_retracing=True option that can avoid unnecessary retracing. For (3), please refer to https://www.tensorflow.org/guide/function#controlling_retracing and https://www.tensorflow.org/api_docs/python/tf/function for  more details.\n"
          ]
        },
        {
          "output_type": "stream",
          "name": "stdout",
          "text": [
            "17/17 [==============================] - 0s 2ms/step\n"
          ]
        },
        {
          "output_type": "display_data",
          "data": {
            "text/plain": [
              "<Figure size 640x480 with 1 Axes>"
            ],
            "image/png": "[encoded data removed]"
          },
          "metadata": {}
        }
      ]
    },
    {
      "cell_type": "code",
      "source": [
        "dnn_model.save('dnn_model')"
      ],
      "metadata": {
        "colab": {
          "base_uri": "https://localhost:8080/"
        },
        "id": "YFuZlNAAUhBe",
        "outputId": "ceb93ccc-329a-4d4b-ab05-2dd2b0c1d7aa"
      },
      "execution_count": 178,
      "outputs": [
        {
          "output_type": "stream",
          "name": "stderr",
          "text": [
            "WARNING:absl:Found untraced functions such as _update_step_xla while saving (showing 1 of 1). These functions will not be directly callable after loading.\n"
          ]
        }
      ]
    },
    {
      "cell_type": "code",
      "source": [
        "reloaded = tf.keras.models.load_model('dnn_model')\n",
        "\n",
        "test_results['reloaded'] = reloaded.evaluate(\n",
        "    test_features, test_labels, verbose=0)"
      ],
      "metadata": {
        "id": "KT5090IZUntH"
      },
      "execution_count": 179,
      "outputs": []
    },
    {
      "cell_type": "code",
      "source": [
        "pd.DataFrame(test_results, index=['Mean Squared Error [trip_total]']).T"
      ],
      "metadata": {
        "colab": {
          "base_uri": "https://localhost:8080/",
          "height": 206
        },
        "id": "uu9x2gmSUsNk",
        "outputId": "214da79a-6e67-454b-8ca5-30249568d244"
      },
      "execution_count": 180,
      "outputs": [
        {
          "output_type": "execute_result",
          "data": {
            "text/plain": [
              "                      Mean Squared Error [trip_total]\n",
              "trip_miles_model                             4.952704\n",
              "linear_model                                 0.078333\n",
              "dnn_trip_miles_model                        88.358894\n",
              "dnn_model                                    0.080342\n",
              "reloaded                                     0.080342"
            ],
            "text/html": [
              "\n",
              "\n",
              "  <div id=\"df-fb3b50e7-4dfa-457c-b04e-e60af461d15b\">\n",
              "    <div class=\"colab-df-container\">\n",
              "      <div>\n",
              "<style scoped>\n",
              "    .dataframe tbody tr th:only-of-type {\n",
              "        vertical-align: middle;\n",
              "    }\n",
              "\n",
              "    .dataframe tbody tr th {\n",
              "        vertical-align: top;\n",
              "    }\n",
              "\n",
              "    .dataframe thead th {\n",
              "        text-align: right;\n",
              "    }\n",
              "</style>\n",
              "<table border=\"1\" class=\"dataframe\">\n",
              "  <thead>\n",
              "    <tr style=\"text-align: right;\">\n",
              "      <th></th>\n",
              "      <th>Mean Squared Error [trip_total]</th>\n",
              "    </tr>\n",
              "  </thead>\n",
              "  <tbody>\n",
              "    <tr>\n",
              "      <th>trip_miles_model</th>\n",
              "      <td>4.952704</td>\n",
              "    </tr>\n",
              "    <tr>\n",
              "      <th>linear_model</th>\n",
              "      <td>0.078333</td>\n",
              "    </tr>\n",
              "    <tr>\n",
              "      <th>dnn_trip_miles_model</th>\n",
              "      <td>88.358894</td>\n",
              "    </tr>\n",
              "    <tr>\n",
              "      <th>dnn_model</th>\n",
              "      <td>0.080342</td>\n",
              "    </tr>\n",
              "    <tr>\n",
              "      <th>reloaded</th>\n",
              "      <td>0.080342</td>\n",
              "    </tr>\n",
              "  </tbody>\n",
              "</table>\n",
              "</div>\n",
              "      <button class=\"colab-df-convert\" onclick=\"convertToInteractive('df-fb3b50e7-4dfa-457c-b04e-e60af461d15b')\"\n",
              "              title=\"Convert this dataframe to an interactive table.\"\n",
              "              style=\"display:none;\">\n",
              "\n",
              "  <svg xmlns=\"http://www.w3.org/2000/svg\" height=\"24px\"viewBox=\"0 0 24 24\"\n",
              "       width=\"24px\">\n",
              "    <path d=\"M0 0h24v24H0V0z\" fill=\"none\"/>\n",
              "    <path d=\"M18.56 5.44l.94 2.06.94-2.06 2.06-.94-2.06-.94-.94-2.06-.94 2.06-2.06.94zm-11 1L8.5 8.5l.94-2.06 2.06-.94-2.06-.94L8.5 2.5l-.94 2.06-2.06.94zm10 10l.94 2.06.94-2.06 2.06-.94-2.06-.94-.94-2.06-.94 2.06-2.06.94z\"/><path d=\"M17.41 7.96l-1.37-1.37c-.4-.4-.92-.59-1.43-.59-.52 0-1.04.2-1.43.59L10.3 9.45l-7.72 7.72c-.78.78-.78 2.05 0 2.83L4 21.41c.39.39.9.59 1.41.59.51 0 1.02-.2 1.41-.59l7.78-7.78 2.81-2.81c.8-.78.8-2.07 0-2.86zM5.41 20L4 18.59l7.72-7.72 1.47 1.35L5.41 20z\"/>\n",
              "  </svg>\n",
              "      </button>\n",
              "\n",
              "\n",
              "\n",
              "    <div id=\"df-8b5858a9-4912-47e7-b78a-42fa19bd36e9\">\n",
              "      <button class=\"colab-df-quickchart\" onclick=\"quickchart('df-8b5858a9-4912-47e7-b78a-42fa19bd36e9')\"\n",
              "              title=\"Suggest charts.\"\n",
              "              style=\"display:none;\">\n",
              "\n",
              "<svg xmlns=\"http://www.w3.org/2000/svg\" height=\"24px\"viewBox=\"0 0 24 24\"\n",
              "     width=\"24px\">\n",
              "    <g>\n",
              "        <path d=\"M19 3H5c-1.1 0-2 .9-2 2v14c0 1.1.9 2 2 2h14c1.1 0 2-.9 2-2V5c0-1.1-.9-2-2-2zM9 17H7v-7h2v7zm4 0h-2V7h2v10zm4 0h-2v-4h2v4z\"/>\n",
              "    </g>\n",
              "</svg>\n",
              "      </button>\n",
              "    </div>\n",
              "\n",
              "<style>\n",
              "  .colab-df-quickchart {\n",
              "    background-color: #E8F0FE;\n",
              "    border: none;\n",
              "    border-radius: 50%;\n",
              "    cursor: pointer;\n",
              "    display: none;\n",
              "    fill: #1967D2;\n",
              "    height: 32px;\n",
              "    padding: 0 0 0 0;\n",
              "    width: 32px;\n",
              "  }\n",
              "\n",
              "  .colab-df-quickchart:hover {\n",
              "    background-color: #E2EBFA;\n",
              "    box-shadow: 0px 1px 2px rgba(60, 64, 67, 0.3), 0px 1px 3px 1px rgba(60, 64, 67, 0.15);\n",
              "    fill: #174EA6;\n",
              "  }\n",
              "\n",
              "  [theme=dark] .colab-df-quickchart {\n",
              "    background-color: #3B4455;\n",
              "    fill: #D2E3FC;\n",
              "  }\n",
              "\n",
              "  [theme=dark] .colab-df-quickchart:hover {\n",
              "    background-color: #434B5C;\n",
              "    box-shadow: 0px 1px 3px 1px rgba(0, 0, 0, 0.15);\n",
              "    filter: drop-shadow(0px 1px 2px rgba(0, 0, 0, 0.3));\n",
              "    fill: #FFFFFF;\n",
              "  }\n",
              "</style>\n",
              "\n",
              "    <script>\n",
              "      async function quickchart(key) {\n",
              "        const containerElement = document.querySelector('#' + key);\n",
              "        const charts = await google.colab.kernel.invokeFunction(\n",
              "            'suggestCharts', [key], {});\n",
              "      }\n",
              "    </script>\n",
              "\n",
              "      <script>\n",
              "\n",
              "function displayQuickchartButton(domScope) {\n",
              "  let quickchartButtonEl =\n",
              "    domScope.querySelector('#df-8b5858a9-4912-47e7-b78a-42fa19bd36e9 button.colab-df-quickchart');\n",
              "  quickchartButtonEl.style.display =\n",
              "    google.colab.kernel.accessAllowed ? 'block' : 'none';\n",
              "}\n",
              "\n",
              "        displayQuickchartButton(document);\n",
              "      </script>\n",
              "      <style>\n",
              "    .colab-df-container {\n",
              "      display:flex;\n",
              "      flex-wrap:wrap;\n",
              "      gap: 12px;\n",
              "    }\n",
              "\n",
              "    .colab-df-convert {\n",
              "      background-color: #E8F0FE;\n",
              "      border: none;\n",
              "      border-radius: 50%;\n",
              "      cursor: pointer;\n",
              "      display: none;\n",
              "      fill: #1967D2;\n",
              "      height: 32px;\n",
              "      padding: 0 0 0 0;\n",
              "      width: 32px;\n",
              "    }\n",
              "\n",
              "    .colab-df-convert:hover {\n",
              "      background-color: #E2EBFA;\n",
              "      box-shadow: 0px 1px 2px rgba(60, 64, 67, 0.3), 0px 1px 3px 1px rgba(60, 64, 67, 0.15);\n",
              "      fill: #174EA6;\n",
              "    }\n",
              "\n",
              "    [theme=dark] .colab-df-convert {\n",
              "      background-color: #3B4455;\n",
              "      fill: #D2E3FC;\n",
              "    }\n",
              "\n",
              "    [theme=dark] .colab-df-convert:hover {\n",
              "      background-color: #434B5C;\n",
              "      box-shadow: 0px 1px 3px 1px rgba(0, 0, 0, 0.15);\n",
              "      filter: drop-shadow(0px 1px 2px rgba(0, 0, 0, 0.3));\n",
              "      fill: #FFFFFF;\n",
              "    }\n",
              "  </style>\n",
              "\n",
              "      <script>\n",
              "        const buttonEl =\n",
              "          document.querySelector('#df-fb3b50e7-4dfa-457c-b04e-e60af461d15b button.colab-df-convert');\n",
              "        buttonEl.style.display =\n",
              "          google.colab.kernel.accessAllowed ? 'block' : 'none';\n",
              "\n",
              "        async function convertToInteractive(key) {\n",
              "          const element = document.querySelector('#df-fb3b50e7-4dfa-457c-b04e-e60af461d15b');\n",
              "          const dataTable =\n",
              "            await google.colab.kernel.invokeFunction('convertToInteractive',\n",
              "                                                     [key], {});\n",
              "          if (!dataTable) return;\n",
              "\n",
              "          const docLinkHtml = 'Like what you see? Visit the ' +\n",
              "            '<a target=\"_blank\" href=https://colab.research.google.com/notebooks/data_table.ipynb>data table notebook</a>'\n",
              "            + ' to learn more about interactive tables.';\n",
              "          element.innerHTML = '';\n",
              "          dataTable['output_type'] = 'display_data';\n",
              "          await google.colab.output.renderOutput(dataTable, element);\n",
              "          const docLink = document.createElement('div');\n",
              "          docLink.innerHTML = docLinkHtml;\n",
              "          element.appendChild(docLink);\n",
              "        }\n",
              "      </script>\n",
              "    </div>\n",
              "  </div>\n"
            ]
          },
          "metadata": {},
          "execution_count": 180
        }
      ]
    },
    {
      "cell_type": "markdown",
      "source": [
        "## RMSE"
      ],
      "metadata": {
        "id": "L87x0pIxCjWw"
      }
    },
    {
      "cell_type": "markdown",
      "source": [
        "RMSE(Root Mean Squared Error): 平均二乗誤差の平方根"
      ],
      "metadata": {
        "id": "37wg0NRWYSih"
      }
    },
    {
      "cell_type": "code",
      "source": [
        "from sklearn.metrics import mean_absolute_error\n",
        "from sklearn.metrics import mean_squared_error\n",
        "print('RMSE:')\n",
        "print(np.sqrt(mean_squared_error(test_labels, test_predictions)))\n",
        "print('MAE:')\n",
        "print(mean_absolute_error(test_labels, test_predictions))"
      ],
      "metadata": {
        "id": "67CfQwZPCnyh",
        "colab": {
          "base_uri": "https://localhost:8080/"
        },
        "outputId": "a883914f-4b49-47b9-9b3e-0e9f6382fc9e"
      },
      "execution_count": 181,
      "outputs": [
        {
          "output_type": "stream",
          "name": "stdout",
          "text": [
            "RMSE:\n",
            "0.2834466086822019\n",
            "MAE:\n",
            "0.07771624018398418\n"
          ]
        }
      ]
    }
  ]
}